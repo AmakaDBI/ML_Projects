{
  "nbformat": 4,
  "nbformat_minor": 0,
  "metadata": {
    "kernelspec": {
      "display_name": "Python 3",
      "language": "python",
      "name": "python3"
    },
    "language_info": {
      "codemirror_mode": {
        "name": "ipython",
        "version": 3
      },
      "file_extension": ".py",
      "mimetype": "text/x-python",
      "name": "python",
      "nbconvert_exporter": "python",
      "pygments_lexer": "ipython3",
      "version": "3.7.3"
    },
    "colab": {
      "name": "MostRecent_ChamberSensors.ipynb",
      "provenance": [],
      "include_colab_link": true
    }
  },
  "cells": [
    {
      "cell_type": "markdown",
      "metadata": {
        "id": "view-in-github",
        "colab_type": "text"
      },
      "source": [
        "<a href=\"https://colab.research.google.com/github/AmakaDBI/ML_Projects/blob/master/MostRecent_ChamberSensors.ipynb\" target=\"_parent\"><img src=\"https://colab.research.google.com/assets/colab-badge.svg\" alt=\"Open In Colab\"/></a>"
      ]
    },
    {
      "cell_type": "code",
      "metadata": {
        "id": "kmc6UuIIKf0f"
      },
      "source": [
        "#Analysing the measurement accuracy of low cost sensors for CO2 quantification in marginal ecotopes on the Irish \n",
        "#peatland site"
      ],
      "execution_count": null,
      "outputs": []
    },
    {
      "cell_type": "markdown",
      "metadata": {
        "id": "umHjl8xyKiZM"
      },
      "source": [
        "#Import the neccessary libraries\n"
      ]
    },
    {
      "cell_type": "code",
      "metadata": {
        "id": "Xq66BEolKf0t"
      },
      "source": [
        "import pandas as pd\n",
        "import numpy as np\n",
        "import seaborn as sns\n",
        "import matplotlib.pyplot as plt\n",
        "%matplotlib inline\n"
      ],
      "execution_count": null,
      "outputs": []
    },
    {
      "cell_type": "code",
      "metadata": {
        "id": "ESmEG2WGKf0v",
        "outputId": "af9cac46-dc65-4752-c633-0c2129e599b5"
      },
      "source": [
        "#Load the dataset\n",
        "data=pd.read_csv('data/chambersSensors.csv', parse_dates=True, index_col='Date')\n",
        "data.head(5)"
      ],
      "execution_count": null,
      "outputs": [
        {
          "output_type": "execute_result",
          "data": {
            "text/html": [
              "<div>\n",
              "<style scoped>\n",
              "    .dataframe tbody tr th:only-of-type {\n",
              "        vertical-align: middle;\n",
              "    }\n",
              "\n",
              "    .dataframe tbody tr th {\n",
              "        vertical-align: top;\n",
              "    }\n",
              "\n",
              "    .dataframe thead th {\n",
              "        text-align: right;\n",
              "    }\n",
              "</style>\n",
              "<table border=\"1\" class=\"dataframe\">\n",
              "  <thead>\n",
              "    <tr style=\"text-align: right;\">\n",
              "      <th></th>\n",
              "      <th>Central</th>\n",
              "      <th>Marginal</th>\n",
              "      <th>EC_1466</th>\n",
              "      <th>EC_1827</th>\n",
              "      <th>EC_1824</th>\n",
              "      <th>C_1825</th>\n",
              "      <th>C_1467</th>\n",
              "      <th>C_1828</th>\n",
              "      <th>AirTemperature</th>\n",
              "    </tr>\n",
              "    <tr>\n",
              "      <th>Date</th>\n",
              "      <th></th>\n",
              "      <th></th>\n",
              "      <th></th>\n",
              "      <th></th>\n",
              "      <th></th>\n",
              "      <th></th>\n",
              "      <th></th>\n",
              "      <th></th>\n",
              "      <th></th>\n",
              "    </tr>\n",
              "  </thead>\n",
              "  <tbody>\n",
              "    <tr>\n",
              "      <th>2019-10-24</th>\n",
              "      <td>416.56</td>\n",
              "      <td>417.35</td>\n",
              "      <td>NaN</td>\n",
              "      <td>NaN</td>\n",
              "      <td>NaN</td>\n",
              "      <td>NaN</td>\n",
              "      <td>NaN</td>\n",
              "      <td>NaN</td>\n",
              "      <td>NaN</td>\n",
              "    </tr>\n",
              "    <tr>\n",
              "      <th>2019-07-11</th>\n",
              "      <td>423.74</td>\n",
              "      <td>422.38</td>\n",
              "      <td>NaN</td>\n",
              "      <td>NaN</td>\n",
              "      <td>NaN</td>\n",
              "      <td>NaN</td>\n",
              "      <td>NaN</td>\n",
              "      <td>NaN</td>\n",
              "      <td>NaN</td>\n",
              "    </tr>\n",
              "    <tr>\n",
              "      <th>2019-11-28</th>\n",
              "      <td>452.79</td>\n",
              "      <td>438.51</td>\n",
              "      <td>NaN</td>\n",
              "      <td>NaN</td>\n",
              "      <td>NaN</td>\n",
              "      <td>NaN</td>\n",
              "      <td>NaN</td>\n",
              "      <td>NaN</td>\n",
              "      <td>NaN</td>\n",
              "    </tr>\n",
              "    <tr>\n",
              "      <th>2019-09-12</th>\n",
              "      <td>420.95</td>\n",
              "      <td>420.83</td>\n",
              "      <td>NaN</td>\n",
              "      <td>NaN</td>\n",
              "      <td>NaN</td>\n",
              "      <td>NaN</td>\n",
              "      <td>NaN</td>\n",
              "      <td>NaN</td>\n",
              "      <td>NaN</td>\n",
              "    </tr>\n",
              "    <tr>\n",
              "      <th>2019-12-16</th>\n",
              "      <td>426.08</td>\n",
              "      <td>424.77</td>\n",
              "      <td>NaN</td>\n",
              "      <td>NaN</td>\n",
              "      <td>NaN</td>\n",
              "      <td>NaN</td>\n",
              "      <td>NaN</td>\n",
              "      <td>NaN</td>\n",
              "      <td>NaN</td>\n",
              "    </tr>\n",
              "  </tbody>\n",
              "</table>\n",
              "</div>"
            ],
            "text/plain": [
              "            Central  Marginal  EC_1466  EC_1827  EC_1824  C_1825  C_1467  \\\n",
              "Date                                                                       \n",
              "2019-10-24   416.56    417.35      NaN      NaN      NaN     NaN     NaN   \n",
              "2019-07-11   423.74    422.38      NaN      NaN      NaN     NaN     NaN   \n",
              "2019-11-28   452.79    438.51      NaN      NaN      NaN     NaN     NaN   \n",
              "2019-09-12   420.95    420.83      NaN      NaN      NaN     NaN     NaN   \n",
              "2019-12-16   426.08    424.77      NaN      NaN      NaN     NaN     NaN   \n",
              "\n",
              "            C_1828  AirTemperature  \n",
              "Date                                \n",
              "2019-10-24     NaN             NaN  \n",
              "2019-07-11     NaN             NaN  \n",
              "2019-11-28     NaN             NaN  \n",
              "2019-09-12     NaN             NaN  \n",
              "2019-12-16     NaN             NaN  "
            ]
          },
          "metadata": {
            "tags": []
          },
          "execution_count": 1026
        }
      ]
    },
    {
      "cell_type": "code",
      "metadata": {
        "id": "8Xxg0nFWKf0z"
      },
      "source": [
        "column_names={'Central':'Chamber(Central)','EC_1466':'DL_1466','EC_1827':'DL_1827','EC_1824':'DL_1824'}\n",
        "data=data.rename(columns=column_names)"
      ],
      "execution_count": null,
      "outputs": []
    },
    {
      "cell_type": "code",
      "metadata": {
        "id": "p3qd2NLqKf00",
        "outputId": "828804a2-109d-4507-d7d4-3a8409f3ef0f"
      },
      "source": [
        "Central_1466_data=data[['Chamber(Central)','DL_1466','AirTemperature']]\n",
        "Central_1466_data.dropna(axis=0, inplace=True)\n",
        "Central_1466_data.head()"
      ],
      "execution_count": null,
      "outputs": [
        {
          "output_type": "stream",
          "text": [
            "C:\\ProgramData\\Anaconda3\\lib\\site-packages\\ipykernel_launcher.py:2: SettingWithCopyWarning:\n",
            "\n",
            "\n",
            "A value is trying to be set on a copy of a slice from a DataFrame\n",
            "\n",
            "See the caveats in the documentation: https://pandas.pydata.org/pandas-docs/stable/user_guide/indexing.html#returning-a-view-versus-a-copy\n",
            "\n"
          ],
          "name": "stderr"
        },
        {
          "output_type": "execute_result",
          "data": {
            "text/html": [
              "<div>\n",
              "<style scoped>\n",
              "    .dataframe tbody tr th:only-of-type {\n",
              "        vertical-align: middle;\n",
              "    }\n",
              "\n",
              "    .dataframe tbody tr th {\n",
              "        vertical-align: top;\n",
              "    }\n",
              "\n",
              "    .dataframe thead th {\n",
              "        text-align: right;\n",
              "    }\n",
              "</style>\n",
              "<table border=\"1\" class=\"dataframe\">\n",
              "  <thead>\n",
              "    <tr style=\"text-align: right;\">\n",
              "      <th></th>\n",
              "      <th>Chamber(Central)</th>\n",
              "      <th>DL_1466</th>\n",
              "      <th>AirTemperature</th>\n",
              "    </tr>\n",
              "    <tr>\n",
              "      <th>Date</th>\n",
              "      <th></th>\n",
              "      <th></th>\n",
              "      <th></th>\n",
              "    </tr>\n",
              "  </thead>\n",
              "  <tbody>\n",
              "    <tr>\n",
              "      <th>2020-10-01</th>\n",
              "      <td>422.37</td>\n",
              "      <td>428.0</td>\n",
              "      <td>7.969</td>\n",
              "    </tr>\n",
              "    <tr>\n",
              "      <th>2020-01-21</th>\n",
              "      <td>427.94</td>\n",
              "      <td>422.0</td>\n",
              "      <td>8.190</td>\n",
              "    </tr>\n",
              "    <tr>\n",
              "      <th>2020-03-02</th>\n",
              "      <td>421.51</td>\n",
              "      <td>400.5</td>\n",
              "      <td>6.330</td>\n",
              "    </tr>\n",
              "    <tr>\n",
              "      <th>2020-04-03</th>\n",
              "      <td>424.24</td>\n",
              "      <td>397.5</td>\n",
              "      <td>11.591</td>\n",
              "    </tr>\n",
              "    <tr>\n",
              "      <th>2020-03-19</th>\n",
              "      <td>426.44</td>\n",
              "      <td>413.0</td>\n",
              "      <td>10.256</td>\n",
              "    </tr>\n",
              "  </tbody>\n",
              "</table>\n",
              "</div>"
            ],
            "text/plain": [
              "            Chamber(Central)  DL_1466  AirTemperature\n",
              "Date                                                 \n",
              "2020-10-01            422.37    428.0           7.969\n",
              "2020-01-21            427.94    422.0           8.190\n",
              "2020-03-02            421.51    400.5           6.330\n",
              "2020-04-03            424.24    397.5          11.591\n",
              "2020-03-19            426.44    413.0          10.256"
            ]
          },
          "metadata": {
            "tags": []
          },
          "execution_count": 1039
        }
      ]
    },
    {
      "cell_type": "code",
      "metadata": {
        "id": "Wuslj1ZOKf01",
        "outputId": "95df63cf-1010-4831-d3a4-8934256dbcf6"
      },
      "source": [
        "fig =  plt.figure(figsize=(8,6))\n",
        "plt.plot(data['Chamber(Central)'], 'bo', markersize=8, label='Chamber')\n",
        "plt.plot(data['DL_1466'], 'go', ms=8, label='DL_1466')\n",
        "plt.legend()\n",
        "\n",
        "\n"
      ],
      "execution_count": null,
      "outputs": [
        {
          "output_type": "execute_result",
          "data": {
            "text/plain": [
              "<matplotlib.legend.Legend at 0x2188ef2b390>"
            ]
          },
          "metadata": {
            "tags": []
          },
          "execution_count": 1041
        },
        {
          "output_type": "display_data",
          "data": {
            "image/png": "[encoded data removed]",
            "text/plain": [
              "<Figure size 576x432 with 1 Axes>"
            ]
          },
          "metadata": {
            "tags": [],
            "needs_background": "light"
          }
        }
      ]
    },
    {
      "cell_type": "code",
      "metadata": {
        "id": "SvpZNLKVKf03",
        "outputId": "159b8008-6815-4a53-e516-d650216f01b0"
      },
      "source": [
        "fig1=Central_1466_data.drop(['AirTemperature'], axis=1)\n",
        "fig1.plot(subplots=True,kind='line', figsize=(8,6))"
      ],
      "execution_count": null,
      "outputs": [
        {
          "output_type": "execute_result",
          "data": {
            "text/plain": [
              "array([<AxesSubplot:xlabel='Date'>, <AxesSubplot:xlabel='Date'>],\n",
              "      dtype=object)"
            ]
          },
          "metadata": {
            "tags": []
          },
          "execution_count": 1042
        },
        {
          "output_type": "display_data",
          "data": {
            "image/png": "[encoded data removed]",
            "text/plain": [
              "<Figure size 576x432 with 2 Axes>"
            ]
          },
          "metadata": {
            "tags": [],
            "needs_background": "light"
          }
        }
      ]
    },
    {
      "cell_type": "code",
      "metadata": {
        "id": "D_d8MU62Kf05",
        "outputId": "11ff0233-448c-4b52-9e77-97d79154757e"
      },
      "source": [
        "sns.pairplot(Central_1466_data)"
      ],
      "execution_count": null,
      "outputs": [
        {
          "output_type": "execute_result",
          "data": {
            "text/plain": [
              "<seaborn.axisgrid.PairGrid at 0x2188f01c128>"
            ]
          },
          "metadata": {
            "tags": []
          },
          "execution_count": 1043
        },
        {
          "output_type": "display_data",
          "data": {
            "image/png": "[encoded data removed]",
            "text/plain": [
              "<Figure size 540x540 with 12 Axes>"
            ]
          },
          "metadata": {
            "tags": [],
            "needs_background": "light"
          }
        }
      ]
    },
    {
      "cell_type": "code",
      "metadata": {
        "id": "3pF5mIJcKf06",
        "outputId": "636ff3d0-f291-464f-981f-037951083d14"
      },
      "source": [
        "from sklearn.metrics import mean_absolute_error, mean_squared_error\n",
        "mae_1466=round(mean_absolute_error(Central_1466_data['Chamber(Central)'], Central_1466_data['DL_1466']),2)\n",
        "rmse_1466=round(np.sqrt(mean_squared_error(Central_1466_data['Chamber(Central)'], Central_1466_data['DL_1466'])),2)\n",
        "print('MAE_1466:', mae_1466)\n",
        "print('RMSE_1466:', rmse_1466)"
      ],
      "execution_count": null,
      "outputs": [
        {
          "output_type": "stream",
          "text": [
            "MAE_1466: 23.6\n",
            "RMSE_1466: 30.94\n"
          ],
          "name": "stdout"
        }
      ]
    },
    {
      "cell_type": "code",
      "metadata": {
        "id": "fkwiAnRHKf07",
        "outputId": "46722a3c-230e-48f5-9827-55c409876043"
      },
      "source": [
        "ec_sensors=data[['Chamber(Central)', 'DL_1466', 'DL_1827', 'DL_1824', 'AirTemperature']]\n",
        "ec_sensors.dropna(axis=0, inplace=True)\n",
        "ec_sensors"
      ],
      "execution_count": null,
      "outputs": [
        {
          "output_type": "stream",
          "text": [
            "C:\\ProgramData\\Anaconda3\\lib\\site-packages\\ipykernel_launcher.py:2: SettingWithCopyWarning:\n",
            "\n",
            "\n",
            "A value is trying to be set on a copy of a slice from a DataFrame\n",
            "\n",
            "See the caveats in the documentation: https://pandas.pydata.org/pandas-docs/stable/user_guide/indexing.html#returning-a-view-versus-a-copy\n",
            "\n"
          ],
          "name": "stderr"
        },
        {
          "output_type": "execute_result",
          "data": {
            "text/html": [
              "<div>\n",
              "<style scoped>\n",
              "    .dataframe tbody tr th:only-of-type {\n",
              "        vertical-align: middle;\n",
              "    }\n",
              "\n",
              "    .dataframe tbody tr th {\n",
              "        vertical-align: top;\n",
              "    }\n",
              "\n",
              "    .dataframe thead th {\n",
              "        text-align: right;\n",
              "    }\n",
              "</style>\n",
              "<table border=\"1\" class=\"dataframe\">\n",
              "  <thead>\n",
              "    <tr style=\"text-align: right;\">\n",
              "      <th></th>\n",
              "      <th>Chamber(Central)</th>\n",
              "      <th>DL_1466</th>\n",
              "      <th>DL_1827</th>\n",
              "      <th>DL_1824</th>\n",
              "      <th>AirTemperature</th>\n",
              "    </tr>\n",
              "    <tr>\n",
              "      <th>Date</th>\n",
              "      <th></th>\n",
              "      <th></th>\n",
              "      <th></th>\n",
              "      <th></th>\n",
              "      <th></th>\n",
              "    </tr>\n",
              "  </thead>\n",
              "  <tbody>\n",
              "    <tr>\n",
              "      <th>2020-07-31</th>\n",
              "      <td>409.55</td>\n",
              "      <td>448.0</td>\n",
              "      <td>419.0</td>\n",
              "      <td>408.0</td>\n",
              "      <td>18.044</td>\n",
              "    </tr>\n",
              "    <tr>\n",
              "      <th>2020-12-08</th>\n",
              "      <td>405.68</td>\n",
              "      <td>404.0</td>\n",
              "      <td>411.0</td>\n",
              "      <td>410.0</td>\n",
              "      <td>26.107</td>\n",
              "    </tr>\n",
              "    <tr>\n",
              "      <th>2020-08-26</th>\n",
              "      <td>399.38</td>\n",
              "      <td>427.0</td>\n",
              "      <td>404.0</td>\n",
              "      <td>399.0</td>\n",
              "      <td>19.972</td>\n",
              "    </tr>\n",
              "    <tr>\n",
              "      <th>2020-09-09</th>\n",
              "      <td>402.98</td>\n",
              "      <td>419.0</td>\n",
              "      <td>406.0</td>\n",
              "      <td>404.0</td>\n",
              "      <td>18.087</td>\n",
              "    </tr>\n",
              "    <tr>\n",
              "      <th>2020-09-30</th>\n",
              "      <td>415.03</td>\n",
              "      <td>470.0</td>\n",
              "      <td>390.0</td>\n",
              "      <td>414.0</td>\n",
              "      <td>12.481</td>\n",
              "    </tr>\n",
              "    <tr>\n",
              "      <th>2020-10-14</th>\n",
              "      <td>415.54</td>\n",
              "      <td>425.0</td>\n",
              "      <td>446.0</td>\n",
              "      <td>417.0</td>\n",
              "      <td>14.167</td>\n",
              "    </tr>\n",
              "    <tr>\n",
              "      <th>2020-10-28</th>\n",
              "      <td>414.19</td>\n",
              "      <td>415.0</td>\n",
              "      <td>413.0</td>\n",
              "      <td>400.0</td>\n",
              "      <td>5.643</td>\n",
              "    </tr>\n",
              "    <tr>\n",
              "      <th>2020-11-16</th>\n",
              "      <td>420.57</td>\n",
              "      <td>481.0</td>\n",
              "      <td>428.0</td>\n",
              "      <td>423.0</td>\n",
              "      <td>11.154</td>\n",
              "    </tr>\n",
              "    <tr>\n",
              "      <th>2020-11-25</th>\n",
              "      <td>420.30</td>\n",
              "      <td>458.0</td>\n",
              "      <td>425.0</td>\n",
              "      <td>407.0</td>\n",
              "      <td>7.864</td>\n",
              "    </tr>\n",
              "  </tbody>\n",
              "</table>\n",
              "</div>"
            ],
            "text/plain": [
              "            Chamber(Central)  DL_1466  DL_1827  DL_1824  AirTemperature\n",
              "Date                                                                   \n",
              "2020-07-31            409.55    448.0    419.0    408.0          18.044\n",
              "2020-12-08            405.68    404.0    411.0    410.0          26.107\n",
              "2020-08-26            399.38    427.0    404.0    399.0          19.972\n",
              "2020-09-09            402.98    419.0    406.0    404.0          18.087\n",
              "2020-09-30            415.03    470.0    390.0    414.0          12.481\n",
              "2020-10-14            415.54    425.0    446.0    417.0          14.167\n",
              "2020-10-28            414.19    415.0    413.0    400.0           5.643\n",
              "2020-11-16            420.57    481.0    428.0    423.0          11.154\n",
              "2020-11-25            420.30    458.0    425.0    407.0           7.864"
            ]
          },
          "metadata": {
            "tags": []
          },
          "execution_count": 1046
        }
      ]
    },
    {
      "cell_type": "code",
      "metadata": {
        "id": "C-0tzq3_Kf08",
        "outputId": "70789292-476c-4f73-a357-2c23ee5774a7"
      },
      "source": [
        "from matplotlib.dates import DateFormatter\n",
        "#fig =  plt.figure(figsize=(12,6))\n",
        "fig, ax = plt.subplots(figsize=(10, 6))\n",
        "plt.plot(ec_sensors['Chamber(Central)'], 'bo', markersize=8, label='Chamber CO2')\n",
        "plt.plot(ec_sensors['DL_1466'], 'go', ms=8, label='DL_1466')\n",
        "plt.plot(ec_sensors['DL_1827'], 'ro', ms=8, label='DL_1827')\n",
        "plt.plot(ec_sensors['DL_1824'], 'yo', ms=8, label='DL_1824')\n",
        "date_form = DateFormatter(\"%m-%d\")\n",
        "ax.xaxis.set_major_formatter(date_form)\n",
        "plt.legend()"
      ],
      "execution_count": null,
      "outputs": [
        {
          "output_type": "execute_result",
          "data": {
            "text/plain": [
              "<matplotlib.legend.Legend at 0x21890a113c8>"
            ]
          },
          "metadata": {
            "tags": []
          },
          "execution_count": 1068
        },
        {
          "output_type": "display_data",
          "data": {
            "image/png": "[encoded data removed]",
            "text/plain": [
              "<Figure size 720x432 with 1 Axes>"
            ]
          },
          "metadata": {
            "tags": [],
            "needs_background": "light"
          }
        }
      ]
    },
    {
      "cell_type": "code",
      "metadata": {
        "id": "TpJ_DegVKf0_",
        "outputId": "ee873469-5611-46b4-ac8c-f3d840bd2bc1"
      },
      "source": [
        "ec_sensors.drop(['AirTemperature'], axis=1, inplace=True)\n",
        "ec_sensors.plot(title='Chamber and sensors CO2 measurements')\n",
        "\n",
        "plt.ylabel('CO2 Concentration(ppm)')\n",
        "plt.legend(loc='center left', bbox_to_anchor=(1, 0.5))"
      ],
      "execution_count": null,
      "outputs": [
        {
          "output_type": "stream",
          "text": [
            "C:\\Users\\aorae.DESKTOP-1B4QBTM\\AppData\\Roaming\\Python\\Python37\\site-packages\\pandas\\core\\frame.py:4312: SettingWithCopyWarning:\n",
            "\n",
            "\n",
            "A value is trying to be set on a copy of a slice from a DataFrame\n",
            "\n",
            "See the caveats in the documentation: https://pandas.pydata.org/pandas-docs/stable/user_guide/indexing.html#returning-a-view-versus-a-copy\n",
            "\n"
          ],
          "name": "stderr"
        },
        {
          "output_type": "execute_result",
          "data": {
            "text/plain": [
              "<matplotlib.legend.Legend at 0x218905cba20>"
            ]
          },
          "metadata": {
            "tags": []
          },
          "execution_count": 1048
        },
        {
          "output_type": "display_data",
          "data": {
            "image/png": "[encoded data removed]",
            "text/plain": [
              "<Figure size 432x288 with 1 Axes>"
            ]
          },
          "metadata": {
            "tags": [],
            "needs_background": "light"
          }
        }
      ]
    },
    {
      "cell_type": "code",
      "metadata": {
        "id": "jDLpQjfjKf1A",
        "outputId": "4b63cc7a-f00d-435c-fd16-4a5431afc9dd"
      },
      "source": [
        "sns.lineplot(data = ec_sensors)\n",
        "plt.legend(loc='center left', bbox_to_anchor=(1, 0.5))"
      ],
      "execution_count": null,
      "outputs": [
        {
          "output_type": "execute_result",
          "data": {
            "text/plain": [
              "<matplotlib.legend.Legend at 0x21890857c18>"
            ]
          },
          "metadata": {
            "tags": []
          },
          "execution_count": 1049
        },
        {
          "output_type": "display_data",
          "data": {
            "image/png": "[encoded data removed]",
            "text/plain": [
              "<Figure size 432x288 with 1 Axes>"
            ]
          },
          "metadata": {
            "tags": [],
            "needs_background": "light"
          }
        }
      ]
    },
    {
      "cell_type": "code",
      "metadata": {
        "id": "1F-An0hmKf1B",
        "outputId": "f1ef419c-1663-433e-af58-be712b6ba304"
      },
      "source": [
        "print('MAE_1466:', mae_1466)\n",
        "print('RMSE_1466:', rmse_1466)\n",
        "print()\n",
        "\n",
        "mae_1827=round(mean_absolute_error(ec_sensors['Chamber(Central)'], ec_sensors['DL_1827']),2)\n",
        "rmse_1827=round(np.sqrt(mean_squared_error(ec_sensors['Chamber(Central)'], ec_sensors['DL_1827'])),2)\n",
        "print('MAE_1827:', mae_1827)\n",
        "print('RMSE_1827:', rmse_1827)\n",
        "print()\n",
        "\n",
        "mae_1824=round(mean_absolute_error(ec_sensors['Chamber(Central)'], ec_sensors['DL_1824']),2)\n",
        "rmse_1824=round(np.sqrt(mean_squared_error(ec_sensors['Chamber(Central)'], ec_sensors['DL_1824'])),2)\n",
        "print('MAE_1824:', mae_1824)\n",
        "print('RMSE_1824:', rmse_1824)"
      ],
      "execution_count": null,
      "outputs": [
        {
          "output_type": "stream",
          "text": [
            "MAE_1466: 23.6\n",
            "RMSE_1466: 30.94\n",
            "\n",
            "MAE_1827: 10.14\n",
            "RMSE_1827: 14.07\n",
            "\n",
            "MAE_1824: 4.41\n",
            "RMSE_1824: 6.75\n"
          ],
          "name": "stdout"
        }
      ]
    },
    {
      "cell_type": "code",
      "metadata": {
        "id": "cUXTMU01Kf1D"
      },
      "source": [
        "from sklearn.linear_model import LinearRegression\n",
        "from sklearn.model_selection import train_test_split"
      ],
      "execution_count": null,
      "outputs": []
    },
    {
      "cell_type": "code",
      "metadata": {
        "id": "bTXgH9NmKf1E"
      },
      "source": [
        "X=ec_sensors.drop(['Chamber(Central)','DL_1466'], axis=1)\n",
        "Y=ec_sensors['Chamber(Central)']\n",
        "X_train, X_test, y_train, y_test=train_test_split(X,Y, test_size=0.1)"
      ],
      "execution_count": null,
      "outputs": []
    },
    {
      "cell_type": "code",
      "metadata": {
        "id": "ecBSGV3WKf1E",
        "outputId": "45fbd9ac-2874-4859-ddb2-93a6595d5002"
      },
      "source": [
        "mlr=LinearRegression()\n",
        "mlr.fit(X_train, y_train)"
      ],
      "execution_count": null,
      "outputs": [
        {
          "output_type": "execute_result",
          "data": {
            "text/plain": [
              "LinearRegression()"
            ]
          },
          "metadata": {
            "tags": []
          },
          "execution_count": 1057
        }
      ]
    },
    {
      "cell_type": "code",
      "metadata": {
        "id": "T9Z7Ixt_Kf1F"
      },
      "source": [
        "y_predict=mlr.predict(X_train)"
      ],
      "execution_count": null,
      "outputs": []
    },
    {
      "cell_type": "code",
      "metadata": {
        "id": "Gjtu-IeIKf1G",
        "outputId": "83c24d9d-878a-44d4-a8ee-54417cb27c07"
      },
      "source": [
        "mae_fusedsensors=mean_absolute_error(y_predict, y_train)\n",
        "rmse_fusedsensors=np.sqrt(mean_squared_error(y_predict, y_train))\n",
        "print('MAE of fused sensors:',mae_fusedsensors)\n",
        "print('RMSE of fused sensors:',rmse_fusedsensors)"
      ],
      "execution_count": null,
      "outputs": [
        {
          "output_type": "stream",
          "text": [
            "MAE of fused sensors: 4.5175502847874185\n",
            "RMSE of fused sensors: 5.2169338922252875\n"
          ],
          "name": "stdout"
        }
      ]
    },
    {
      "cell_type": "code",
      "metadata": {
        "id": "khRasZymKf1H",
        "outputId": "21e89ea7-c38a-497b-f239-eb69b0b8ad02"
      },
      "source": [
        "errors={'Sensors': ['DL_1466','DL_1827','DL_1824', 'Sensor_fusion'],\n",
        "        'MAE': [23.6,10.14,4.41,3.01],\n",
        "        'RMSE':[30.94, 14.07,6.75,3.45]\n",
        "        }\n",
        "error_df=pd.DataFrame(errors, columns=['Sensors','MAE', 'RMSE'])\n",
        "error_df"
      ],
      "execution_count": null,
      "outputs": [
        {
          "output_type": "execute_result",
          "data": {
            "text/html": [
              "<div>\n",
              "<style scoped>\n",
              "    .dataframe tbody tr th:only-of-type {\n",
              "        vertical-align: middle;\n",
              "    }\n",
              "\n",
              "    .dataframe tbody tr th {\n",
              "        vertical-align: top;\n",
              "    }\n",
              "\n",
              "    .dataframe thead th {\n",
              "        text-align: right;\n",
              "    }\n",
              "</style>\n",
              "<table border=\"1\" class=\"dataframe\">\n",
              "  <thead>\n",
              "    <tr style=\"text-align: right;\">\n",
              "      <th></th>\n",
              "      <th>Sensors</th>\n",
              "      <th>MAE</th>\n",
              "      <th>RMSE</th>\n",
              "    </tr>\n",
              "  </thead>\n",
              "  <tbody>\n",
              "    <tr>\n",
              "      <th>0</th>\n",
              "      <td>DL_1466</td>\n",
              "      <td>23.60</td>\n",
              "      <td>30.94</td>\n",
              "    </tr>\n",
              "    <tr>\n",
              "      <th>1</th>\n",
              "      <td>DL_1827</td>\n",
              "      <td>10.14</td>\n",
              "      <td>14.07</td>\n",
              "    </tr>\n",
              "    <tr>\n",
              "      <th>2</th>\n",
              "      <td>DL_1824</td>\n",
              "      <td>4.41</td>\n",
              "      <td>6.75</td>\n",
              "    </tr>\n",
              "    <tr>\n",
              "      <th>3</th>\n",
              "      <td>Sensor_fusion</td>\n",
              "      <td>3.01</td>\n",
              "      <td>3.45</td>\n",
              "    </tr>\n",
              "  </tbody>\n",
              "</table>\n",
              "</div>"
            ],
            "text/plain": [
              "         Sensors    MAE   RMSE\n",
              "0        DL_1466  23.60  30.94\n",
              "1        DL_1827  10.14  14.07\n",
              "2        DL_1824   4.41   6.75\n",
              "3  Sensor_fusion   3.01   3.45"
            ]
          },
          "metadata": {
            "tags": []
          },
          "execution_count": 1060
        }
      ]
    },
    {
      "cell_type": "code",
      "metadata": {
        "id": "oorz-P-ZKf1H",
        "outputId": "3ea8419b-9ba6-477e-98c0-a4aef3ee0737"
      },
      "source": [
        "#plotdata=pd.DataFrame(MAE={'DL_1466':'23.60','DL_1827':'10.14','DL_1824':'4.41', 'Sensor_fusion':'3.01'},\n",
        "                     #RMSE={'DL_1466':'30.94','DL_1827':'14.07','DL_1824':'6.75', 'Sensor_fusion':'3.45'})\n",
        "\n",
        "plotdata = pd.DataFrame({\n",
        "   \"DL_1466\":[23.60 ],\n",
        "    \"DL_1827\":[10.14],\n",
        "    \"DL_1824\":[4.41],\n",
        "    \"Sensor_fusion\":[3.01],\n",
        "    \n",
        "    }, \n",
        "   index=[\"\"]\n",
        ")\n",
        "plotdata.plot(kind=\"bar\")\n",
        "plt.title(\"Error rate of Sensors CO2 measurement\")\n",
        "plt.xlabel(\"Sensors\")\n",
        "plt.ylabel('MAE')"
      ],
      "execution_count": null,
      "outputs": [
        {
          "output_type": "execute_result",
          "data": {
            "text/plain": [
              "Text(0, 0.5, 'MAE')"
            ]
          },
          "metadata": {
            "tags": []
          },
          "execution_count": 1070
        },
        {
          "output_type": "display_data",
          "data": {
            "image/png": "[encoded data removed]",
            "text/plain": [
              "<Figure size 432x288 with 1 Axes>"
            ]
          },
          "metadata": {
            "tags": [],
            "needs_background": "light"
          }
        }
      ]
    },
    {
      "cell_type": "code",
      "metadata": {
        "id": "3QUaC7trKf1I"
      },
      "source": [
        "measurements={'Date':['2020-07-31','2020-08-26']}"
      ],
      "execution_count": null,
      "outputs": []
    },
    {
      "cell_type": "code",
      "metadata": {
        "id": "nuvwdIdDKf1J"
      },
      "source": [
        "y_predict\n",
        "y_predict=pd.DataFrame(y_predict)"
      ],
      "execution_count": null,
      "outputs": []
    },
    {
      "cell_type": "code",
      "metadata": {
        "id": "j3x0rHi-Kf1J"
      },
      "source": [
        "y_train=pd.DataFrame(y_train)"
      ],
      "execution_count": null,
      "outputs": []
    },
    {
      "cell_type": "code",
      "metadata": {
        "id": "UJC2IXKvKf1J",
        "outputId": "6f16c671-3d10-4a50-fe42-62950dc9499a"
      },
      "source": [
        "df.rename(columns={0:'Sensor fusion'})"
      ],
      "execution_count": null,
      "outputs": [
        {
          "output_type": "execute_result",
          "data": {
            "text/html": [
              "<div>\n",
              "<style scoped>\n",
              "    .dataframe tbody tr th:only-of-type {\n",
              "        vertical-align: middle;\n",
              "    }\n",
              "\n",
              "    .dataframe tbody tr th {\n",
              "        vertical-align: top;\n",
              "    }\n",
              "\n",
              "    .dataframe thead th {\n",
              "        text-align: right;\n",
              "    }\n",
              "</style>\n",
              "<table border=\"1\" class=\"dataframe\">\n",
              "  <thead>\n",
              "    <tr style=\"text-align: right;\">\n",
              "      <th></th>\n",
              "      <th>Sensor fusion</th>\n",
              "    </tr>\n",
              "  </thead>\n",
              "  <tbody>\n",
              "    <tr>\n",
              "      <th>0</th>\n",
              "      <td>420.807739</td>\n",
              "    </tr>\n",
              "    <tr>\n",
              "      <th>1</th>\n",
              "      <td>411.648988</td>\n",
              "    </tr>\n",
              "    <tr>\n",
              "      <th>2</th>\n",
              "      <td>404.894881</td>\n",
              "    </tr>\n",
              "    <tr>\n",
              "      <th>3</th>\n",
              "      <td>415.373473</td>\n",
              "    </tr>\n",
              "    <tr>\n",
              "      <th>4</th>\n",
              "      <td>405.064135</td>\n",
              "    </tr>\n",
              "    <tr>\n",
              "      <th>5</th>\n",
              "      <td>412.340173</td>\n",
              "    </tr>\n",
              "    <tr>\n",
              "      <th>6</th>\n",
              "      <td>406.883511</td>\n",
              "    </tr>\n",
              "    <tr>\n",
              "      <th>7</th>\n",
              "      <td>405.907100</td>\n",
              "    </tr>\n",
              "  </tbody>\n",
              "</table>\n",
              "</div>"
            ],
            "text/plain": [
              "   Sensor fusion\n",
              "0     420.807739\n",
              "1     411.648988\n",
              "2     404.894881\n",
              "3     415.373473\n",
              "4     405.064135\n",
              "5     412.340173\n",
              "6     406.883511\n",
              "7     405.907100"
            ]
          },
          "metadata": {
            "tags": []
          },
          "execution_count": 777
        }
      ]
    },
    {
      "cell_type": "code",
      "metadata": {
        "id": "frT9ByN1Kf1K",
        "outputId": "b27004d3-bf56-4015-f133-e060abecedb7"
      },
      "source": [
        "y_train"
      ],
      "execution_count": null,
      "outputs": [
        {
          "output_type": "execute_result",
          "data": {
            "text/html": [
              "<div>\n",
              "<style scoped>\n",
              "    .dataframe tbody tr th:only-of-type {\n",
              "        vertical-align: middle;\n",
              "    }\n",
              "\n",
              "    .dataframe tbody tr th {\n",
              "        vertical-align: top;\n",
              "    }\n",
              "\n",
              "    .dataframe thead th {\n",
              "        text-align: right;\n",
              "    }\n",
              "</style>\n",
              "<table border=\"1\" class=\"dataframe\">\n",
              "  <thead>\n",
              "    <tr style=\"text-align: right;\">\n",
              "      <th></th>\n",
              "      <th>Central</th>\n",
              "    </tr>\n",
              "    <tr>\n",
              "      <th>Date</th>\n",
              "      <th></th>\n",
              "    </tr>\n",
              "  </thead>\n",
              "  <tbody>\n",
              "    <tr>\n",
              "      <th>2020-11-16</th>\n",
              "      <td>420.57</td>\n",
              "    </tr>\n",
              "    <tr>\n",
              "      <th>2020-07-31</th>\n",
              "      <td>409.55</td>\n",
              "    </tr>\n",
              "    <tr>\n",
              "      <th>2020-08-26</th>\n",
              "      <td>399.38</td>\n",
              "    </tr>\n",
              "    <tr>\n",
              "      <th>2020-10-14</th>\n",
              "      <td>415.54</td>\n",
              "    </tr>\n",
              "    <tr>\n",
              "      <th>2020-10-28</th>\n",
              "      <td>414.19</td>\n",
              "    </tr>\n",
              "    <tr>\n",
              "      <th>2020-09-30</th>\n",
              "      <td>415.03</td>\n",
              "    </tr>\n",
              "    <tr>\n",
              "      <th>2020-12-08</th>\n",
              "      <td>405.68</td>\n",
              "    </tr>\n",
              "    <tr>\n",
              "      <th>2020-09-09</th>\n",
              "      <td>402.98</td>\n",
              "    </tr>\n",
              "  </tbody>\n",
              "</table>\n",
              "</div>"
            ],
            "text/plain": [
              "            Central\n",
              "Date               \n",
              "2020-11-16   420.57\n",
              "2020-07-31   409.55\n",
              "2020-08-26   399.38\n",
              "2020-10-14   415.54\n",
              "2020-10-28   414.19\n",
              "2020-09-30   415.03\n",
              "2020-12-08   405.68\n",
              "2020-09-09   402.98"
            ]
          },
          "metadata": {
            "tags": []
          },
          "execution_count": 773
        }
      ]
    },
    {
      "cell_type": "code",
      "metadata": {
        "id": "5pNaFoCxKf1L"
      },
      "source": [
        "df1=pd.read_excel('data/chambers_sensors_CO2.xlsx', sheet_name='Sheet2', parse_dates=True, index_col='Date')"
      ],
      "execution_count": null,
      "outputs": []
    },
    {
      "cell_type": "code",
      "metadata": {
        "id": "TSPXyeGgKf1M",
        "outputId": "ff2d5640-c32a-4747-9441-9f0ecbe90855"
      },
      "source": [
        "df1.plot()"
      ],
      "execution_count": null,
      "outputs": [
        {
          "output_type": "execute_result",
          "data": {
            "text/plain": [
              "<AxesSubplot:xlabel='Date'>"
            ]
          },
          "metadata": {
            "tags": []
          },
          "execution_count": 795
        },
        {
          "output_type": "display_data",
          "data": {
            "image/png": "[encoded data removed]",
            "text/plain": [
              "<Figure size 432x288 with 1 Axes>"
            ]
          },
          "metadata": {
            "tags": [],
            "needs_background": "light"
          }
        }
      ]
    },
    {
      "cell_type": "code",
      "metadata": {
        "id": "MTgIB_56Kf1M"
      },
      "source": [
        ""
      ],
      "execution_count": null,
      "outputs": []
    }
  ]
}