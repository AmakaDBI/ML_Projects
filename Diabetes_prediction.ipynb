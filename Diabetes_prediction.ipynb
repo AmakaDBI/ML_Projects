{
  "nbformat": 4,
  "nbformat_minor": 0,
  "metadata": {
    "colab": {
      "name": "Diabetes prediction.ipynb",
      "provenance": [],
      "authorship_tag": "ABX9TyMJ/t1XfH7KhPWq7rKTknq1",
      "include_colab_link": true
    },
    "kernelspec": {
      "name": "python3",
      "display_name": "Python 3"
    },
    "language_info": {
      "name": "python"
    }
  },
  "cells": [
    {
      "cell_type": "markdown",
      "metadata": {
        "id": "view-in-github",
        "colab_type": "text"
      },
      "source": [
        "<a href=\"https://colab.research.google.com/github/AmakaDBI/ML_Projects/blob/master/Diabetes_prediction.ipynb\" target=\"_parent\"><img src=\"https://colab.research.google.com/assets/colab-badge.svg\" alt=\"Open In Colab\"/></a>"
      ]
    },
    {
      "cell_type": "markdown",
      "metadata": {
        "id": "Ei15w5D4AVBL"
      },
      "source": [
        "Predicting the onset of diabetes using MLP\n"
      ]
    },
    {
      "cell_type": "code",
      "metadata": {
        "id": "oCeb05esASEF"
      },
      "source": [
        "import pandas as pd\n",
        "import numpy as np\n",
        "import matplotlib.pyplot as plt\n",
        "import seaborn as sns\n",
        "from sklearn import preprocessing\n",
        "from sklearn.preprocessing import StandardScaler\n",
        "%matplotlib inline"
      ],
      "execution_count": 2,
      "outputs": []
    },
    {
      "cell_type": "code",
      "metadata": {
        "id": "9dOJs9y5A3O4"
      },
      "source": [
        "#load the dataset\n",
        "data=pd.read_csv('/content/pima-indians-diabetes.csv')"
      ],
      "execution_count": 3,
      "outputs": []
    },
    {
      "cell_type": "markdown",
      "metadata": {
        "id": "8GrcP57OEglv"
      },
      "source": [
        "Exploratory Data Analysis\n"
      ]
    },
    {
      "cell_type": "code",
      "metadata": {
        "colab": {
          "base_uri": "https://localhost:8080/",
          "height": 206
        },
        "id": "Ak-0-2-rBatf",
        "outputId": "d74e215f-9e83-4631-a5c4-7b4eab2de6c4"
      },
      "source": [
        "#Take a look at the portion of the dataset\n",
        "data.head()"
      ],
      "execution_count": 4,
      "outputs": [
        {
          "output_type": "execute_result",
          "data": {
            "text/html": [
              "<div>\n",
              "<style scoped>\n",
              "    .dataframe tbody tr th:only-of-type {\n",
              "        vertical-align: middle;\n",
              "    }\n",
              "\n",
              "    .dataframe tbody tr th {\n",
              "        vertical-align: top;\n",
              "    }\n",
              "\n",
              "    .dataframe thead th {\n",
              "        text-align: right;\n",
              "    }\n",
              "</style>\n",
              "<table border=\"1\" class=\"dataframe\">\n",
              "  <thead>\n",
              "    <tr style=\"text-align: right;\">\n",
              "      <th></th>\n",
              "      <th>6</th>\n",
              "      <th>148</th>\n",
              "      <th>72</th>\n",
              "      <th>35</th>\n",
              "      <th>0</th>\n",
              "      <th>33.6</th>\n",
              "      <th>0.627</th>\n",
              "      <th>50</th>\n",
              "      <th>1</th>\n",
              "    </tr>\n",
              "  </thead>\n",
              "  <tbody>\n",
              "    <tr>\n",
              "      <th>0</th>\n",
              "      <td>1</td>\n",
              "      <td>85</td>\n",
              "      <td>66</td>\n",
              "      <td>29</td>\n",
              "      <td>0</td>\n",
              "      <td>26.6</td>\n",
              "      <td>0.351</td>\n",
              "      <td>31</td>\n",
              "      <td>0</td>\n",
              "    </tr>\n",
              "    <tr>\n",
              "      <th>1</th>\n",
              "      <td>8</td>\n",
              "      <td>183</td>\n",
              "      <td>64</td>\n",
              "      <td>0</td>\n",
              "      <td>0</td>\n",
              "      <td>23.3</td>\n",
              "      <td>0.672</td>\n",
              "      <td>32</td>\n",
              "      <td>1</td>\n",
              "    </tr>\n",
              "    <tr>\n",
              "      <th>2</th>\n",
              "      <td>1</td>\n",
              "      <td>89</td>\n",
              "      <td>66</td>\n",
              "      <td>23</td>\n",
              "      <td>94</td>\n",
              "      <td>28.1</td>\n",
              "      <td>0.167</td>\n",
              "      <td>21</td>\n",
              "      <td>0</td>\n",
              "    </tr>\n",
              "    <tr>\n",
              "      <th>3</th>\n",
              "      <td>0</td>\n",
              "      <td>137</td>\n",
              "      <td>40</td>\n",
              "      <td>35</td>\n",
              "      <td>168</td>\n",
              "      <td>43.1</td>\n",
              "      <td>2.288</td>\n",
              "      <td>33</td>\n",
              "      <td>1</td>\n",
              "    </tr>\n",
              "    <tr>\n",
              "      <th>4</th>\n",
              "      <td>5</td>\n",
              "      <td>116</td>\n",
              "      <td>74</td>\n",
              "      <td>0</td>\n",
              "      <td>0</td>\n",
              "      <td>25.6</td>\n",
              "      <td>0.201</td>\n",
              "      <td>30</td>\n",
              "      <td>0</td>\n",
              "    </tr>\n",
              "  </tbody>\n",
              "</table>\n",
              "</div>"
            ],
            "text/plain": [
              "   6  148  72  35    0  33.6  0.627  50  1\n",
              "0  1   85  66  29    0  26.6  0.351  31  0\n",
              "1  8  183  64   0    0  23.3  0.672  32  1\n",
              "2  1   89  66  23   94  28.1  0.167  21  0\n",
              "3  0  137  40  35  168  43.1  2.288  33  1\n",
              "4  5  116  74   0    0  25.6  0.201  30  0"
            ]
          },
          "metadata": {
            "tags": []
          },
          "execution_count": 4
        }
      ]
    },
    {
      "cell_type": "code",
      "metadata": {
        "id": "8xbvPqAgCRVg"
      },
      "source": [
        "#Rename the columns\n",
        "column_names=['Pregnancies', 'Glucose', 'BloodPressure','SkinThickness','Insulin','BMI',\n",
        "              'DiabetesPedigreeFunction','Age','Outcome']\n",
        "data.columns=column_names"
      ],
      "execution_count": 5,
      "outputs": []
    },
    {
      "cell_type": "code",
      "metadata": {
        "colab": {
          "base_uri": "https://localhost:8080/",
          "height": 206
        },
        "id": "nkXHZaM2EM3E",
        "outputId": "c85eb764-0ce9-46ef-80c5-ec4e582460ff"
      },
      "source": [
        "data.head()"
      ],
      "execution_count": 6,
      "outputs": [
        {
          "output_type": "execute_result",
          "data": {
            "text/html": [
              "<div>\n",
              "<style scoped>\n",
              "    .dataframe tbody tr th:only-of-type {\n",
              "        vertical-align: middle;\n",
              "    }\n",
              "\n",
              "    .dataframe tbody tr th {\n",
              "        vertical-align: top;\n",
              "    }\n",
              "\n",
              "    .dataframe thead th {\n",
              "        text-align: right;\n",
              "    }\n",
              "</style>\n",
              "<table border=\"1\" class=\"dataframe\">\n",
              "  <thead>\n",
              "    <tr style=\"text-align: right;\">\n",
              "      <th></th>\n",
              "      <th>Pregnancies</th>\n",
              "      <th>Glucose</th>\n",
              "      <th>BloodPressure</th>\n",
              "      <th>SkinThickness</th>\n",
              "      <th>Insulin</th>\n",
              "      <th>BMI</th>\n",
              "      <th>DiabetesPedigreeFunction</th>\n",
              "      <th>Age</th>\n",
              "      <th>Outcome</th>\n",
              "    </tr>\n",
              "  </thead>\n",
              "  <tbody>\n",
              "    <tr>\n",
              "      <th>0</th>\n",
              "      <td>1</td>\n",
              "      <td>85</td>\n",
              "      <td>66</td>\n",
              "      <td>29</td>\n",
              "      <td>0</td>\n",
              "      <td>26.6</td>\n",
              "      <td>0.351</td>\n",
              "      <td>31</td>\n",
              "      <td>0</td>\n",
              "    </tr>\n",
              "    <tr>\n",
              "      <th>1</th>\n",
              "      <td>8</td>\n",
              "      <td>183</td>\n",
              "      <td>64</td>\n",
              "      <td>0</td>\n",
              "      <td>0</td>\n",
              "      <td>23.3</td>\n",
              "      <td>0.672</td>\n",
              "      <td>32</td>\n",
              "      <td>1</td>\n",
              "    </tr>\n",
              "    <tr>\n",
              "      <th>2</th>\n",
              "      <td>1</td>\n",
              "      <td>89</td>\n",
              "      <td>66</td>\n",
              "      <td>23</td>\n",
              "      <td>94</td>\n",
              "      <td>28.1</td>\n",
              "      <td>0.167</td>\n",
              "      <td>21</td>\n",
              "      <td>0</td>\n",
              "    </tr>\n",
              "    <tr>\n",
              "      <th>3</th>\n",
              "      <td>0</td>\n",
              "      <td>137</td>\n",
              "      <td>40</td>\n",
              "      <td>35</td>\n",
              "      <td>168</td>\n",
              "      <td>43.1</td>\n",
              "      <td>2.288</td>\n",
              "      <td>33</td>\n",
              "      <td>1</td>\n",
              "    </tr>\n",
              "    <tr>\n",
              "      <th>4</th>\n",
              "      <td>5</td>\n",
              "      <td>116</td>\n",
              "      <td>74</td>\n",
              "      <td>0</td>\n",
              "      <td>0</td>\n",
              "      <td>25.6</td>\n",
              "      <td>0.201</td>\n",
              "      <td>30</td>\n",
              "      <td>0</td>\n",
              "    </tr>\n",
              "  </tbody>\n",
              "</table>\n",
              "</div>"
            ],
            "text/plain": [
              "   Pregnancies  Glucose  BloodPressure  ...  DiabetesPedigreeFunction  Age  Outcome\n",
              "0            1       85             66  ...                     0.351   31        0\n",
              "1            8      183             64  ...                     0.672   32        1\n",
              "2            1       89             66  ...                     0.167   21        0\n",
              "3            0      137             40  ...                     2.288   33        1\n",
              "4            5      116             74  ...                     0.201   30        0\n",
              "\n",
              "[5 rows x 9 columns]"
            ]
          },
          "metadata": {
            "tags": []
          },
          "execution_count": 6
        }
      ]
    },
    {
      "cell_type": "code",
      "metadata": {
        "colab": {
          "base_uri": "https://localhost:8080/"
        },
        "id": "CUBZtnklEPSB",
        "outputId": "4b7a5206-cf67-4b38-d500-89fcbfac4cbe"
      },
      "source": [
        "data.shape #check the size of the dataset"
      ],
      "execution_count": 7,
      "outputs": [
        {
          "output_type": "execute_result",
          "data": {
            "text/plain": [
              "(767, 9)"
            ]
          },
          "metadata": {
            "tags": []
          },
          "execution_count": 7
        }
      ]
    },
    {
      "cell_type": "code",
      "metadata": {
        "colab": {
          "base_uri": "https://localhost:8080/"
        },
        "id": "LKH-DqwhEWAp",
        "outputId": "e6f16953-5c15-436a-e8fa-6e97de617378"
      },
      "source": [
        "data.isnull().any()#check for missing values"
      ],
      "execution_count": 8,
      "outputs": [
        {
          "output_type": "execute_result",
          "data": {
            "text/plain": [
              "Pregnancies                 False\n",
              "Glucose                     False\n",
              "BloodPressure               False\n",
              "SkinThickness               False\n",
              "Insulin                     False\n",
              "BMI                         False\n",
              "DiabetesPedigreeFunction    False\n",
              "Age                         False\n",
              "Outcome                     False\n",
              "dtype: bool"
            ]
          },
          "metadata": {
            "tags": []
          },
          "execution_count": 8
        }
      ]
    },
    {
      "cell_type": "code",
      "metadata": {
        "colab": {
          "base_uri": "https://localhost:8080/",
          "height": 300
        },
        "id": "4feLoYOjE371",
        "outputId": "d6c88002-7392-4b9c-d3d6-ec77e3cbbcd0"
      },
      "source": [
        "#summary statistics\n",
        "data.describe()"
      ],
      "execution_count": 9,
      "outputs": [
        {
          "output_type": "execute_result",
          "data": {
            "text/html": [
              "<div>\n",
              "<style scoped>\n",
              "    .dataframe tbody tr th:only-of-type {\n",
              "        vertical-align: middle;\n",
              "    }\n",
              "\n",
              "    .dataframe tbody tr th {\n",
              "        vertical-align: top;\n",
              "    }\n",
              "\n",
              "    .dataframe thead th {\n",
              "        text-align: right;\n",
              "    }\n",
              "</style>\n",
              "<table border=\"1\" class=\"dataframe\">\n",
              "  <thead>\n",
              "    <tr style=\"text-align: right;\">\n",
              "      <th></th>\n",
              "      <th>Pregnancies</th>\n",
              "      <th>Glucose</th>\n",
              "      <th>BloodPressure</th>\n",
              "      <th>SkinThickness</th>\n",
              "      <th>Insulin</th>\n",
              "      <th>BMI</th>\n",
              "      <th>DiabetesPedigreeFunction</th>\n",
              "      <th>Age</th>\n",
              "      <th>Outcome</th>\n",
              "    </tr>\n",
              "  </thead>\n",
              "  <tbody>\n",
              "    <tr>\n",
              "      <th>count</th>\n",
              "      <td>767.000000</td>\n",
              "      <td>767.000000</td>\n",
              "      <td>767.000000</td>\n",
              "      <td>767.000000</td>\n",
              "      <td>767.000000</td>\n",
              "      <td>767.000000</td>\n",
              "      <td>767.000000</td>\n",
              "      <td>767.000000</td>\n",
              "      <td>767.000000</td>\n",
              "    </tr>\n",
              "    <tr>\n",
              "      <th>mean</th>\n",
              "      <td>3.842243</td>\n",
              "      <td>120.859192</td>\n",
              "      <td>69.101695</td>\n",
              "      <td>20.517601</td>\n",
              "      <td>79.903520</td>\n",
              "      <td>31.990482</td>\n",
              "      <td>0.471674</td>\n",
              "      <td>33.219035</td>\n",
              "      <td>0.348110</td>\n",
              "    </tr>\n",
              "    <tr>\n",
              "      <th>std</th>\n",
              "      <td>3.370877</td>\n",
              "      <td>31.978468</td>\n",
              "      <td>19.368155</td>\n",
              "      <td>15.954059</td>\n",
              "      <td>115.283105</td>\n",
              "      <td>7.889091</td>\n",
              "      <td>0.331497</td>\n",
              "      <td>11.752296</td>\n",
              "      <td>0.476682</td>\n",
              "    </tr>\n",
              "    <tr>\n",
              "      <th>min</th>\n",
              "      <td>0.000000</td>\n",
              "      <td>0.000000</td>\n",
              "      <td>0.000000</td>\n",
              "      <td>0.000000</td>\n",
              "      <td>0.000000</td>\n",
              "      <td>0.000000</td>\n",
              "      <td>0.078000</td>\n",
              "      <td>21.000000</td>\n",
              "      <td>0.000000</td>\n",
              "    </tr>\n",
              "    <tr>\n",
              "      <th>25%</th>\n",
              "      <td>1.000000</td>\n",
              "      <td>99.000000</td>\n",
              "      <td>62.000000</td>\n",
              "      <td>0.000000</td>\n",
              "      <td>0.000000</td>\n",
              "      <td>27.300000</td>\n",
              "      <td>0.243500</td>\n",
              "      <td>24.000000</td>\n",
              "      <td>0.000000</td>\n",
              "    </tr>\n",
              "    <tr>\n",
              "      <th>50%</th>\n",
              "      <td>3.000000</td>\n",
              "      <td>117.000000</td>\n",
              "      <td>72.000000</td>\n",
              "      <td>23.000000</td>\n",
              "      <td>32.000000</td>\n",
              "      <td>32.000000</td>\n",
              "      <td>0.371000</td>\n",
              "      <td>29.000000</td>\n",
              "      <td>0.000000</td>\n",
              "    </tr>\n",
              "    <tr>\n",
              "      <th>75%</th>\n",
              "      <td>6.000000</td>\n",
              "      <td>140.000000</td>\n",
              "      <td>80.000000</td>\n",
              "      <td>32.000000</td>\n",
              "      <td>127.500000</td>\n",
              "      <td>36.600000</td>\n",
              "      <td>0.625000</td>\n",
              "      <td>41.000000</td>\n",
              "      <td>1.000000</td>\n",
              "    </tr>\n",
              "    <tr>\n",
              "      <th>max</th>\n",
              "      <td>17.000000</td>\n",
              "      <td>199.000000</td>\n",
              "      <td>122.000000</td>\n",
              "      <td>99.000000</td>\n",
              "      <td>846.000000</td>\n",
              "      <td>67.100000</td>\n",
              "      <td>2.420000</td>\n",
              "      <td>81.000000</td>\n",
              "      <td>1.000000</td>\n",
              "    </tr>\n",
              "  </tbody>\n",
              "</table>\n",
              "</div>"
            ],
            "text/plain": [
              "       Pregnancies     Glucose  ...         Age     Outcome\n",
              "count   767.000000  767.000000  ...  767.000000  767.000000\n",
              "mean      3.842243  120.859192  ...   33.219035    0.348110\n",
              "std       3.370877   31.978468  ...   11.752296    0.476682\n",
              "min       0.000000    0.000000  ...   21.000000    0.000000\n",
              "25%       1.000000   99.000000  ...   24.000000    0.000000\n",
              "50%       3.000000  117.000000  ...   29.000000    0.000000\n",
              "75%       6.000000  140.000000  ...   41.000000    1.000000\n",
              "max      17.000000  199.000000  ...   81.000000    1.000000\n",
              "\n",
              "[8 rows x 9 columns]"
            ]
          },
          "metadata": {
            "tags": []
          },
          "execution_count": 9
        }
      ]
    },
    {
      "cell_type": "code",
      "metadata": {
        "colab": {
          "base_uri": "https://localhost:8080/",
          "height": 683
        },
        "id": "YyZ_WlIBRQXe",
        "outputId": "22a24c28-11e8-46d0-bec8-94567974288e"
      },
      "source": [
        "data.hist(figsize=(12,8))"
      ],
      "execution_count": 10,
      "outputs": [
        {
          "output_type": "execute_result",
          "data": {
            "text/plain": [
              "array([[<matplotlib.axes._subplots.AxesSubplot object at 0x7fd66e5778d0>,\n",
              "        <matplotlib.axes._subplots.AxesSubplot object at 0x7fd66e4c1b10>,\n",
              "        <matplotlib.axes._subplots.AxesSubplot object at 0x7fd66e4915d0>],\n",
              "       [<matplotlib.axes._subplots.AxesSubplot object at 0x7fd66e445c50>,\n",
              "        <matplotlib.axes._subplots.AxesSubplot object at 0x7fd66e409310>,\n",
              "        <matplotlib.axes._subplots.AxesSubplot object at 0x7fd66e3be990>],\n",
              "       [<matplotlib.axes._subplots.AxesSubplot object at 0x7fd66e3f3fd0>,\n",
              "        <matplotlib.axes._subplots.AxesSubplot object at 0x7fd66e3b5690>,\n",
              "        <matplotlib.axes._subplots.AxesSubplot object at 0x7fd66e3b56d0>]],\n",
              "      dtype=object)"
            ]
          },
          "metadata": {
            "tags": []
          },
          "execution_count": 10
        },
        {
          "output_type": "display_data",
          "data": {
            "image/png": "[encoded data removed]",
            "text/plain": [
              "<Figure size 864x576 with 9 Axes>"
            ]
          },
          "metadata": {
            "tags": [],
            "needs_background": "light"
          }
        }
      ]
    },
    {
      "cell_type": "code",
      "metadata": {
        "id": "Ma_TFtf1E8ik"
      },
      "source": [
        "#data contains 0 values which are inappropriate for some of the variables"
      ],
      "execution_count": 11,
      "outputs": []
    },
    {
      "cell_type": "markdown",
      "metadata": {
        "id": "8JZxrYx1FJLP"
      },
      "source": [
        "Data preprocessing\n",
        "\n"
      ]
    },
    {
      "cell_type": "code",
      "metadata": {
        "colab": {
          "base_uri": "https://localhost:8080/"
        },
        "id": "q3LApKXdFN1G",
        "outputId": "6bc32b12-d2fd-4e5e-97ce-7b793dce928a"
      },
      "source": [
        "#check how many 0s in each columns\n",
        "\n",
        "for col in data.columns:\n",
        "  missing_row=data.loc[data[col]==0].shape[0]\n",
        " \n",
        "  print(f\"{col} : {missing_row}\")"
      ],
      "execution_count": 12,
      "outputs": [
        {
          "output_type": "stream",
          "text": [
            "Pregnancies : 111\n",
            "Glucose : 5\n",
            "BloodPressure : 35\n",
            "SkinThickness : 227\n",
            "Insulin : 373\n",
            "BMI : 11\n",
            "DiabetesPedigreeFunction : 0\n",
            "Age : 0\n",
            "Outcome : 500\n"
          ],
          "name": "stdout"
        }
      ]
    },
    {
      "cell_type": "code",
      "metadata": {
        "id": "5fN9uhx6Fu1J"
      },
      "source": [
        "missing_cols=data[['Glucose','BloodPressure','SkinThickness','Insulin','BMI']]\n",
        "for col in missing_cols:\n",
        "  data[col]=data[col].replace(0, np.nan)\n",
        "  data[col]=data[col].fillna(data[col].mean())\n",
        "  \n"
      ],
      "execution_count": 13,
      "outputs": []
    },
    {
      "cell_type": "code",
      "metadata": {
        "colab": {
          "base_uri": "https://localhost:8080/"
        },
        "id": "dN4ZHMcNJ2W8",
        "outputId": "add6576c-95e9-4e7a-a631-aca171fa917e"
      },
      "source": [
        "\n",
        "for col in data.columns:\n",
        "  missing_row=data.loc[data[col]==0].shape[0]\n",
        " \n",
        "  print(f\"{col} : {missing_row}\")\n",
        " #check to be sure that their are no 0 values again\n",
        "#the pregnancy column was not affected as 0 pregnancies seems appropriate"
      ],
      "execution_count": 14,
      "outputs": [
        {
          "output_type": "stream",
          "text": [
            "Pregnancies : 111\n",
            "Glucose : 0\n",
            "BloodPressure : 0\n",
            "SkinThickness : 0\n",
            "Insulin : 0\n",
            "BMI : 0\n",
            "DiabetesPedigreeFunction : 0\n",
            "Age : 0\n",
            "Outcome : 500\n"
          ],
          "name": "stdout"
        }
      ]
    },
    {
      "cell_type": "code",
      "metadata": {
        "colab": {
          "base_uri": "https://localhost:8080/"
        },
        "id": "r3KsdhxiKPAp",
        "outputId": "6238373c-9967-4556-db4f-dc9cd55f93b8"
      },
      "source": [
        "#The features and target\n",
        "X=data.drop('Outcome', axis=1)\n",
        "y=data['Outcome']\n",
        "X.shape"
      ],
      "execution_count": 15,
      "outputs": [
        {
          "output_type": "execute_result",
          "data": {
            "text/plain": [
              "(767, 8)"
            ]
          },
          "metadata": {
            "tags": []
          },
          "execution_count": 15
        }
      ]
    },
    {
      "cell_type": "code",
      "metadata": {
        "id": "eGwTuMTSLTwA"
      },
      "source": [
        "#scale the data, the target data (i.e outcome) need not be scaled\n",
        "X=preprocessing.scale(X)\n",
        "new_names=['Pregnancies', 'Glucose', 'BloodPressure','SkinThickness','Insulin','BMI',\n",
        "              'DiabetesPedigreeFunction','Age']\n",
        "X=pd.DataFrame(X, columns=new_names)"
      ],
      "execution_count": 21,
      "outputs": []
    },
    {
      "cell_type": "code",
      "metadata": {
        "colab": {
          "base_uri": "https://localhost:8080/"
        },
        "id": "VP_OpeoLMQrp",
        "outputId": "527dd974-06c4-4090-fbe5-bcc900cdb99e"
      },
      "source": [
        "print(data.describe().loc[['mean', 'std','max'],].round(2).abs())"
      ],
      "execution_count": 22,
      "outputs": [
        {
          "output_type": "stream",
          "text": [
            "      Pregnancies  Glucose  ...    Age  Outcome\n",
            "mean         3.84   121.65  ...  33.22     0.35\n",
            "std          3.37    30.44  ...  11.75     0.48\n",
            "max         17.00   199.00  ...  81.00     1.00\n",
            "\n",
            "[3 rows x 9 columns]\n"
          ],
          "name": "stdout"
        }
      ]
    },
    {
      "cell_type": "code",
      "metadata": {
        "colab": {
          "base_uri": "https://localhost:8080/"
        },
        "id": "DuHCJ4HDMzR_",
        "outputId": "078ea35d-8bdc-4df7-b84e-294e20c70b44"
      },
      "source": [
        "print(X.describe().loc[['mean', 'std','max'],].round(2).abs()) #each variable now has 0 mean and unit variance"
      ],
      "execution_count": 23,
      "outputs": [
        {
          "output_type": "stream",
          "text": [
            "      Pregnancies  Glucose  BloodPressure  ...   BMI  DiabetesPedigreeFunction   Age\n",
            "mean         0.00     0.00            0.0  ...  0.00                      0.00  0.00\n",
            "std          1.00     1.00            1.0  ...  1.00                      1.00  1.00\n",
            "max          3.91     2.54            4.1  ...  5.04                      5.88  4.07\n",
            "\n",
            "[3 rows x 8 columns]\n"
          ],
          "name": "stdout"
        }
      ]
    },
    {
      "cell_type": "code",
      "metadata": {
        "id": "OhVWTfpPN7wE"
      },
      "source": [
        "#split the data into training, testing and validation set\n",
        "from sklearn.model_selection import train_test_split\n",
        "X_train, X_test, y_train, y_test=train_test_split(X,y,test_size=0.2)\n",
        "X_train, X_val, y_train, y_val=train_test_split(X_train,y_train, test_size=0.2)"
      ],
      "execution_count": 24,
      "outputs": []
    },
    {
      "cell_type": "markdown",
      "metadata": {
        "id": "LsMNtWMRWLiS"
      },
      "source": [
        "Building the model\n"
      ]
    },
    {
      "cell_type": "code",
      "metadata": {
        "id": "6jNyLpayWOoW"
      },
      "source": [
        "#import the libraries for neural network\n",
        "from keras.models import  Sequential\n",
        "from keras.layers import Dense\n",
        "from keras import optimizers"
      ],
      "execution_count": 35,
      "outputs": []
    },
    {
      "cell_type": "code",
      "metadata": {
        "id": "i21SOngvd5Pi"
      },
      "source": [
        "model=Sequential()\n",
        "#add the first layer\n",
        "model.add(Dense(units=32, activation='relu', input_dim=X.shape[1]))\n",
        "#add the second hidden layer\n",
        "model.add(Dense(16, activation='relu'))"
      ],
      "execution_count": 36,
      "outputs": []
    },
    {
      "cell_type": "code",
      "metadata": {
        "id": "HQ_LJWL79CAt"
      },
      "source": [
        "#The output layer\n",
        "model.add(Dense(1, activation='sigmoid'))"
      ],
      "execution_count": 37,
      "outputs": []
    },
    {
      "cell_type": "markdown",
      "metadata": {
        "id": "GLRiCa5--LdN"
      },
      "source": [
        "Model compilation\n"
      ]
    },
    {
      "cell_type": "code",
      "metadata": {
        "id": "VSPcTCsv-OJY"
      },
      "source": [
        "#To train the model, define the parameters of the training method\n",
        "model.compile(optimizer='adam',loss='binary_crossentropy',\n",
        "              metrics=['accuracy'])"
      ],
      "execution_count": 38,
      "outputs": []
    },
    {
      "cell_type": "code",
      "metadata": {
        "colab": {
          "base_uri": "https://localhost:8080/"
        },
        "id": "cV0LbNA7_DXN",
        "outputId": "8183d87e-2524-4b0f-b783-5bdc3db1be5c"
      },
      "source": [
        "#train the model for 200 epochs (iteration)\n",
        "model.fit(X_train, y_train, epochs=200)"
      ],
      "execution_count": 40,
      "outputs": [
        {
          "output_type": "stream",
          "text": [
            "Epoch 1/200\n",
            "16/16 [==============================] - 0s 2ms/step - loss: 0.6548 - accuracy: 0.6633\n",
            "Epoch 2/200\n",
            "16/16 [==============================] - 0s 2ms/step - loss: 0.5991 - accuracy: 0.7143\n",
            "Epoch 3/200\n",
            "16/16 [==============================] - 0s 2ms/step - loss: 0.5642 - accuracy: 0.7367\n",
            "Epoch 4/200\n",
            "16/16 [==============================] - 0s 1ms/step - loss: 0.5394 - accuracy: 0.7347\n",
            "Epoch 5/200\n",
            "16/16 [==============================] - 0s 1ms/step - loss: 0.5227 - accuracy: 0.7347\n",
            "Epoch 6/200\n",
            "16/16 [==============================] - 0s 1ms/step - loss: 0.5089 - accuracy: 0.7367\n",
            "Epoch 7/200\n",
            "16/16 [==============================] - 0s 1ms/step - loss: 0.4995 - accuracy: 0.7408\n",
            "Epoch 8/200\n",
            "16/16 [==============================] - 0s 1ms/step - loss: 0.4920 - accuracy: 0.7490\n",
            "Epoch 9/200\n",
            "16/16 [==============================] - 0s 2ms/step - loss: 0.4872 - accuracy: 0.7469\n",
            "Epoch 10/200\n",
            "16/16 [==============================] - 0s 1ms/step - loss: 0.4824 - accuracy: 0.7490\n",
            "Epoch 11/200\n",
            "16/16 [==============================] - 0s 1ms/step - loss: 0.4784 - accuracy: 0.7571\n",
            "Epoch 12/200\n",
            "16/16 [==============================] - 0s 1ms/step - loss: 0.4743 - accuracy: 0.7633\n",
            "Epoch 13/200\n",
            "16/16 [==============================] - 0s 2ms/step - loss: 0.4712 - accuracy: 0.7612\n",
            "Epoch 14/200\n",
            "16/16 [==============================] - 0s 2ms/step - loss: 0.4683 - accuracy: 0.7673\n",
            "Epoch 15/200\n",
            "16/16 [==============================] - 0s 2ms/step - loss: 0.4658 - accuracy: 0.7673\n",
            "Epoch 16/200\n",
            "16/16 [==============================] - 0s 2ms/step - loss: 0.4635 - accuracy: 0.7653\n",
            "Epoch 17/200\n",
            "16/16 [==============================] - 0s 2ms/step - loss: 0.4612 - accuracy: 0.7653\n",
            "Epoch 18/200\n",
            "16/16 [==============================] - 0s 2ms/step - loss: 0.4592 - accuracy: 0.7735\n",
            "Epoch 19/200\n",
            "16/16 [==============================] - 0s 1ms/step - loss: 0.4559 - accuracy: 0.7755\n",
            "Epoch 20/200\n",
            "16/16 [==============================] - 0s 2ms/step - loss: 0.4546 - accuracy: 0.7776\n",
            "Epoch 21/200\n",
            "16/16 [==============================] - 0s 1ms/step - loss: 0.4523 - accuracy: 0.7816\n",
            "Epoch 22/200\n",
            "16/16 [==============================] - 0s 2ms/step - loss: 0.4517 - accuracy: 0.7755\n",
            "Epoch 23/200\n",
            "16/16 [==============================] - 0s 2ms/step - loss: 0.4496 - accuracy: 0.7816\n",
            "Epoch 24/200\n",
            "16/16 [==============================] - 0s 1ms/step - loss: 0.4475 - accuracy: 0.7796\n",
            "Epoch 25/200\n",
            "16/16 [==============================] - 0s 2ms/step - loss: 0.4455 - accuracy: 0.7755\n",
            "Epoch 26/200\n",
            "16/16 [==============================] - 0s 2ms/step - loss: 0.4439 - accuracy: 0.7755\n",
            "Epoch 27/200\n",
            "16/16 [==============================] - 0s 2ms/step - loss: 0.4432 - accuracy: 0.7796\n",
            "Epoch 28/200\n",
            "16/16 [==============================] - 0s 2ms/step - loss: 0.4416 - accuracy: 0.7796\n",
            "Epoch 29/200\n",
            "16/16 [==============================] - 0s 1ms/step - loss: 0.4401 - accuracy: 0.7837\n",
            "Epoch 30/200\n",
            "16/16 [==============================] - 0s 1ms/step - loss: 0.4383 - accuracy: 0.7816\n",
            "Epoch 31/200\n",
            "16/16 [==============================] - 0s 1ms/step - loss: 0.4379 - accuracy: 0.7796\n",
            "Epoch 32/200\n",
            "16/16 [==============================] - 0s 1ms/step - loss: 0.4355 - accuracy: 0.7837\n",
            "Epoch 33/200\n",
            "16/16 [==============================] - 0s 2ms/step - loss: 0.4365 - accuracy: 0.7837\n",
            "Epoch 34/200\n",
            "16/16 [==============================] - 0s 2ms/step - loss: 0.4338 - accuracy: 0.7837\n",
            "Epoch 35/200\n",
            "16/16 [==============================] - 0s 2ms/step - loss: 0.4322 - accuracy: 0.7939\n",
            "Epoch 36/200\n",
            "16/16 [==============================] - 0s 2ms/step - loss: 0.4312 - accuracy: 0.7878\n",
            "Epoch 37/200\n",
            "16/16 [==============================] - 0s 2ms/step - loss: 0.4292 - accuracy: 0.7837\n",
            "Epoch 38/200\n",
            "16/16 [==============================] - 0s 2ms/step - loss: 0.4277 - accuracy: 0.7939\n",
            "Epoch 39/200\n",
            "16/16 [==============================] - 0s 2ms/step - loss: 0.4267 - accuracy: 0.7918\n",
            "Epoch 40/200\n",
            "16/16 [==============================] - 0s 1ms/step - loss: 0.4252 - accuracy: 0.7939\n",
            "Epoch 41/200\n",
            "16/16 [==============================] - 0s 2ms/step - loss: 0.4246 - accuracy: 0.7959\n",
            "Epoch 42/200\n",
            "16/16 [==============================] - 0s 1ms/step - loss: 0.4232 - accuracy: 0.7959\n",
            "Epoch 43/200\n",
            "16/16 [==============================] - 0s 1ms/step - loss: 0.4212 - accuracy: 0.7959\n",
            "Epoch 44/200\n",
            "16/16 [==============================] - 0s 1ms/step - loss: 0.4222 - accuracy: 0.7939\n",
            "Epoch 45/200\n",
            "16/16 [==============================] - 0s 2ms/step - loss: 0.4203 - accuracy: 0.8000\n",
            "Epoch 46/200\n",
            "16/16 [==============================] - 0s 2ms/step - loss: 0.4176 - accuracy: 0.8061\n",
            "Epoch 47/200\n",
            "16/16 [==============================] - 0s 1ms/step - loss: 0.4169 - accuracy: 0.8000\n",
            "Epoch 48/200\n",
            "16/16 [==============================] - 0s 1ms/step - loss: 0.4157 - accuracy: 0.7959\n",
            "Epoch 49/200\n",
            "16/16 [==============================] - 0s 1ms/step - loss: 0.4143 - accuracy: 0.7980\n",
            "Epoch 50/200\n",
            "16/16 [==============================] - 0s 1ms/step - loss: 0.4136 - accuracy: 0.7939\n",
            "Epoch 51/200\n",
            "16/16 [==============================] - 0s 2ms/step - loss: 0.4136 - accuracy: 0.8061\n",
            "Epoch 52/200\n",
            "16/16 [==============================] - 0s 2ms/step - loss: 0.4099 - accuracy: 0.8020\n",
            "Epoch 53/200\n",
            "16/16 [==============================] - 0s 1ms/step - loss: 0.4098 - accuracy: 0.7959\n",
            "Epoch 54/200\n",
            "16/16 [==============================] - 0s 2ms/step - loss: 0.4078 - accuracy: 0.8020\n",
            "Epoch 55/200\n",
            "16/16 [==============================] - 0s 2ms/step - loss: 0.4077 - accuracy: 0.8041\n",
            "Epoch 56/200\n",
            "16/16 [==============================] - 0s 2ms/step - loss: 0.4088 - accuracy: 0.8041\n",
            "Epoch 57/200\n",
            "16/16 [==============================] - 0s 2ms/step - loss: 0.4042 - accuracy: 0.8122\n",
            "Epoch 58/200\n",
            "16/16 [==============================] - 0s 1ms/step - loss: 0.4036 - accuracy: 0.8041\n",
            "Epoch 59/200\n",
            "16/16 [==============================] - 0s 2ms/step - loss: 0.4030 - accuracy: 0.8122\n",
            "Epoch 60/200\n",
            "16/16 [==============================] - 0s 2ms/step - loss: 0.4004 - accuracy: 0.8041\n",
            "Epoch 61/200\n",
            "16/16 [==============================] - 0s 2ms/step - loss: 0.4001 - accuracy: 0.8061\n",
            "Epoch 62/200\n",
            "16/16 [==============================] - 0s 2ms/step - loss: 0.3989 - accuracy: 0.8061\n",
            "Epoch 63/200\n",
            "16/16 [==============================] - 0s 1ms/step - loss: 0.3976 - accuracy: 0.8143\n",
            "Epoch 64/200\n",
            "16/16 [==============================] - 0s 2ms/step - loss: 0.3964 - accuracy: 0.8163\n",
            "Epoch 65/200\n",
            "16/16 [==============================] - 0s 1ms/step - loss: 0.3948 - accuracy: 0.8204\n",
            "Epoch 66/200\n",
            "16/16 [==============================] - 0s 2ms/step - loss: 0.3938 - accuracy: 0.8224\n",
            "Epoch 67/200\n",
            "16/16 [==============================] - 0s 2ms/step - loss: 0.3932 - accuracy: 0.8122\n",
            "Epoch 68/200\n",
            "16/16 [==============================] - 0s 1ms/step - loss: 0.3911 - accuracy: 0.8204\n",
            "Epoch 69/200\n",
            "16/16 [==============================] - 0s 2ms/step - loss: 0.3911 - accuracy: 0.8204\n",
            "Epoch 70/200\n",
            "16/16 [==============================] - 0s 2ms/step - loss: 0.3896 - accuracy: 0.8163\n",
            "Epoch 71/200\n",
            "16/16 [==============================] - 0s 2ms/step - loss: 0.3879 - accuracy: 0.8184\n",
            "Epoch 72/200\n",
            "16/16 [==============================] - 0s 2ms/step - loss: 0.3868 - accuracy: 0.8163\n",
            "Epoch 73/200\n",
            "16/16 [==============================] - 0s 2ms/step - loss: 0.3860 - accuracy: 0.8143\n",
            "Epoch 74/200\n",
            "16/16 [==============================] - 0s 2ms/step - loss: 0.3847 - accuracy: 0.8163\n",
            "Epoch 75/200\n",
            "16/16 [==============================] - 0s 2ms/step - loss: 0.3832 - accuracy: 0.8224\n",
            "Epoch 76/200\n",
            "16/16 [==============================] - 0s 2ms/step - loss: 0.3827 - accuracy: 0.8184\n",
            "Epoch 77/200\n",
            "16/16 [==============================] - 0s 2ms/step - loss: 0.3811 - accuracy: 0.8224\n",
            "Epoch 78/200\n",
            "16/16 [==============================] - 0s 2ms/step - loss: 0.3797 - accuracy: 0.8265\n",
            "Epoch 79/200\n",
            "16/16 [==============================] - 0s 2ms/step - loss: 0.3799 - accuracy: 0.8245\n",
            "Epoch 80/200\n",
            "16/16 [==============================] - 0s 2ms/step - loss: 0.3775 - accuracy: 0.8245\n",
            "Epoch 81/200\n",
            "16/16 [==============================] - 0s 2ms/step - loss: 0.3771 - accuracy: 0.8286\n",
            "Epoch 82/200\n",
            "16/16 [==============================] - 0s 1ms/step - loss: 0.3758 - accuracy: 0.8306\n",
            "Epoch 83/200\n",
            "16/16 [==============================] - 0s 2ms/step - loss: 0.3744 - accuracy: 0.8286\n",
            "Epoch 84/200\n",
            "16/16 [==============================] - 0s 2ms/step - loss: 0.3739 - accuracy: 0.8245\n",
            "Epoch 85/200\n",
            "16/16 [==============================] - 0s 2ms/step - loss: 0.3716 - accuracy: 0.8286\n",
            "Epoch 86/200\n",
            "16/16 [==============================] - 0s 2ms/step - loss: 0.3706 - accuracy: 0.8347\n",
            "Epoch 87/200\n",
            "16/16 [==============================] - 0s 2ms/step - loss: 0.3701 - accuracy: 0.8286\n",
            "Epoch 88/200\n",
            "16/16 [==============================] - 0s 1ms/step - loss: 0.3686 - accuracy: 0.8408\n",
            "Epoch 89/200\n",
            "16/16 [==============================] - 0s 2ms/step - loss: 0.3686 - accuracy: 0.8327\n",
            "Epoch 90/200\n",
            "16/16 [==============================] - 0s 2ms/step - loss: 0.3669 - accuracy: 0.8347\n",
            "Epoch 91/200\n",
            "16/16 [==============================] - 0s 2ms/step - loss: 0.3657 - accuracy: 0.8327\n",
            "Epoch 92/200\n",
            "16/16 [==============================] - 0s 1ms/step - loss: 0.3644 - accuracy: 0.8469\n",
            "Epoch 93/200\n",
            "16/16 [==============================] - 0s 2ms/step - loss: 0.3631 - accuracy: 0.8449\n",
            "Epoch 94/200\n",
            "16/16 [==============================] - 0s 1ms/step - loss: 0.3610 - accuracy: 0.8469\n",
            "Epoch 95/200\n",
            "16/16 [==============================] - 0s 2ms/step - loss: 0.3596 - accuracy: 0.8367\n",
            "Epoch 96/200\n",
            "16/16 [==============================] - 0s 2ms/step - loss: 0.3586 - accuracy: 0.8551\n",
            "Epoch 97/200\n",
            "16/16 [==============================] - 0s 2ms/step - loss: 0.3569 - accuracy: 0.8531\n",
            "Epoch 98/200\n",
            "16/16 [==============================] - 0s 3ms/step - loss: 0.3559 - accuracy: 0.8449\n",
            "Epoch 99/200\n",
            "16/16 [==============================] - 0s 2ms/step - loss: 0.3548 - accuracy: 0.8510\n",
            "Epoch 100/200\n",
            "16/16 [==============================] - 0s 2ms/step - loss: 0.3529 - accuracy: 0.8490\n",
            "Epoch 101/200\n",
            "16/16 [==============================] - 0s 2ms/step - loss: 0.3519 - accuracy: 0.8510\n",
            "Epoch 102/200\n",
            "16/16 [==============================] - 0s 2ms/step - loss: 0.3519 - accuracy: 0.8510\n",
            "Epoch 103/200\n",
            "16/16 [==============================] - 0s 2ms/step - loss: 0.3487 - accuracy: 0.8531\n",
            "Epoch 104/200\n",
            "16/16 [==============================] - 0s 2ms/step - loss: 0.3471 - accuracy: 0.8551\n",
            "Epoch 105/200\n",
            "16/16 [==============================] - 0s 2ms/step - loss: 0.3463 - accuracy: 0.8551\n",
            "Epoch 106/200\n",
            "16/16 [==============================] - 0s 2ms/step - loss: 0.3456 - accuracy: 0.8571\n",
            "Epoch 107/200\n",
            "16/16 [==============================] - 0s 2ms/step - loss: 0.3446 - accuracy: 0.8531\n",
            "Epoch 108/200\n",
            "16/16 [==============================] - 0s 2ms/step - loss: 0.3422 - accuracy: 0.8551\n",
            "Epoch 109/200\n",
            "16/16 [==============================] - 0s 1ms/step - loss: 0.3409 - accuracy: 0.8551\n",
            "Epoch 110/200\n",
            "16/16 [==============================] - 0s 1ms/step - loss: 0.3419 - accuracy: 0.8531\n",
            "Epoch 111/200\n",
            "16/16 [==============================] - 0s 2ms/step - loss: 0.3378 - accuracy: 0.8592\n",
            "Epoch 112/200\n",
            "16/16 [==============================] - 0s 1ms/step - loss: 0.3386 - accuracy: 0.8592\n",
            "Epoch 113/200\n",
            "16/16 [==============================] - 0s 1ms/step - loss: 0.3363 - accuracy: 0.8592\n",
            "Epoch 114/200\n",
            "16/16 [==============================] - 0s 2ms/step - loss: 0.3355 - accuracy: 0.8633\n",
            "Epoch 115/200\n",
            "16/16 [==============================] - 0s 2ms/step - loss: 0.3337 - accuracy: 0.8653\n",
            "Epoch 116/200\n",
            "16/16 [==============================] - 0s 2ms/step - loss: 0.3358 - accuracy: 0.8571\n",
            "Epoch 117/200\n",
            "16/16 [==============================] - 0s 2ms/step - loss: 0.3302 - accuracy: 0.8694\n",
            "Epoch 118/200\n",
            "16/16 [==============================] - 0s 2ms/step - loss: 0.3293 - accuracy: 0.8714\n",
            "Epoch 119/200\n",
            "16/16 [==============================] - 0s 2ms/step - loss: 0.3281 - accuracy: 0.8714\n",
            "Epoch 120/200\n",
            "16/16 [==============================] - 0s 1ms/step - loss: 0.3273 - accuracy: 0.8755\n",
            "Epoch 121/200\n",
            "16/16 [==============================] - 0s 1ms/step - loss: 0.3271 - accuracy: 0.8714\n",
            "Epoch 122/200\n",
            "16/16 [==============================] - 0s 2ms/step - loss: 0.3257 - accuracy: 0.8673\n",
            "Epoch 123/200\n",
            "16/16 [==============================] - 0s 1ms/step - loss: 0.3239 - accuracy: 0.8755\n",
            "Epoch 124/200\n",
            "16/16 [==============================] - 0s 2ms/step - loss: 0.3236 - accuracy: 0.8796\n",
            "Epoch 125/200\n",
            "16/16 [==============================] - 0s 2ms/step - loss: 0.3211 - accuracy: 0.8694\n",
            "Epoch 126/200\n",
            "16/16 [==============================] - 0s 2ms/step - loss: 0.3215 - accuracy: 0.8694\n",
            "Epoch 127/200\n",
            "16/16 [==============================] - 0s 2ms/step - loss: 0.3183 - accuracy: 0.8837\n",
            "Epoch 128/200\n",
            "16/16 [==============================] - 0s 2ms/step - loss: 0.3177 - accuracy: 0.8816\n",
            "Epoch 129/200\n",
            "16/16 [==============================] - 0s 2ms/step - loss: 0.3173 - accuracy: 0.8816\n",
            "Epoch 130/200\n",
            "16/16 [==============================] - 0s 1ms/step - loss: 0.3161 - accuracy: 0.8796\n",
            "Epoch 131/200\n",
            "16/16 [==============================] - 0s 2ms/step - loss: 0.3133 - accuracy: 0.8755\n",
            "Epoch 132/200\n",
            "16/16 [==============================] - 0s 2ms/step - loss: 0.3130 - accuracy: 0.8755\n",
            "Epoch 133/200\n",
            "16/16 [==============================] - 0s 2ms/step - loss: 0.3115 - accuracy: 0.8837\n",
            "Epoch 134/200\n",
            "16/16 [==============================] - 0s 2ms/step - loss: 0.3101 - accuracy: 0.8816\n",
            "Epoch 135/200\n",
            "16/16 [==============================] - 0s 2ms/step - loss: 0.3102 - accuracy: 0.8796\n",
            "Epoch 136/200\n",
            "16/16 [==============================] - 0s 1ms/step - loss: 0.3072 - accuracy: 0.8796\n",
            "Epoch 137/200\n",
            "16/16 [==============================] - 0s 2ms/step - loss: 0.3076 - accuracy: 0.8735\n",
            "Epoch 138/200\n",
            "16/16 [==============================] - 0s 1ms/step - loss: 0.3055 - accuracy: 0.8816\n",
            "Epoch 139/200\n",
            "16/16 [==============================] - 0s 1ms/step - loss: 0.3039 - accuracy: 0.8776\n",
            "Epoch 140/200\n",
            "16/16 [==============================] - 0s 2ms/step - loss: 0.3033 - accuracy: 0.8796\n",
            "Epoch 141/200\n",
            "16/16 [==============================] - 0s 2ms/step - loss: 0.3016 - accuracy: 0.8796\n",
            "Epoch 142/200\n",
            "16/16 [==============================] - 0s 1ms/step - loss: 0.2998 - accuracy: 0.8857\n",
            "Epoch 143/200\n",
            "16/16 [==============================] - 0s 2ms/step - loss: 0.2995 - accuracy: 0.8796\n",
            "Epoch 144/200\n",
            "16/16 [==============================] - 0s 2ms/step - loss: 0.2981 - accuracy: 0.8796\n",
            "Epoch 145/200\n",
            "16/16 [==============================] - 0s 2ms/step - loss: 0.2975 - accuracy: 0.8878\n",
            "Epoch 146/200\n",
            "16/16 [==============================] - 0s 2ms/step - loss: 0.2950 - accuracy: 0.8857\n",
            "Epoch 147/200\n",
            "16/16 [==============================] - 0s 2ms/step - loss: 0.2937 - accuracy: 0.8796\n",
            "Epoch 148/200\n",
            "16/16 [==============================] - 0s 2ms/step - loss: 0.2931 - accuracy: 0.8837\n",
            "Epoch 149/200\n",
            "16/16 [==============================] - 0s 2ms/step - loss: 0.2914 - accuracy: 0.8857\n",
            "Epoch 150/200\n",
            "16/16 [==============================] - 0s 2ms/step - loss: 0.2908 - accuracy: 0.8939\n",
            "Epoch 151/200\n",
            "16/16 [==============================] - 0s 2ms/step - loss: 0.2897 - accuracy: 0.8837\n",
            "Epoch 152/200\n",
            "16/16 [==============================] - 0s 2ms/step - loss: 0.2882 - accuracy: 0.8878\n",
            "Epoch 153/200\n",
            "16/16 [==============================] - 0s 1ms/step - loss: 0.2864 - accuracy: 0.8878\n",
            "Epoch 154/200\n",
            "16/16 [==============================] - 0s 2ms/step - loss: 0.2861 - accuracy: 0.8857\n",
            "Epoch 155/200\n",
            "16/16 [==============================] - 0s 2ms/step - loss: 0.2843 - accuracy: 0.8918\n",
            "Epoch 156/200\n",
            "16/16 [==============================] - 0s 2ms/step - loss: 0.2840 - accuracy: 0.8898\n",
            "Epoch 157/200\n",
            "16/16 [==============================] - 0s 1ms/step - loss: 0.2833 - accuracy: 0.8939\n",
            "Epoch 158/200\n",
            "16/16 [==============================] - 0s 2ms/step - loss: 0.2807 - accuracy: 0.8898\n",
            "Epoch 159/200\n",
            "16/16 [==============================] - 0s 2ms/step - loss: 0.2796 - accuracy: 0.8918\n",
            "Epoch 160/200\n",
            "16/16 [==============================] - 0s 1ms/step - loss: 0.2789 - accuracy: 0.8878\n",
            "Epoch 161/200\n",
            "16/16 [==============================] - 0s 1ms/step - loss: 0.2772 - accuracy: 0.8939\n",
            "Epoch 162/200\n",
            "16/16 [==============================] - 0s 2ms/step - loss: 0.2748 - accuracy: 0.8939\n",
            "Epoch 163/200\n",
            "16/16 [==============================] - 0s 2ms/step - loss: 0.2741 - accuracy: 0.8939\n",
            "Epoch 164/200\n",
            "16/16 [==============================] - 0s 2ms/step - loss: 0.2726 - accuracy: 0.8959\n",
            "Epoch 165/200\n",
            "16/16 [==============================] - 0s 2ms/step - loss: 0.2721 - accuracy: 0.8959\n",
            "Epoch 166/200\n",
            "16/16 [==============================] - 0s 2ms/step - loss: 0.2706 - accuracy: 0.8918\n",
            "Epoch 167/200\n",
            "16/16 [==============================] - 0s 2ms/step - loss: 0.2696 - accuracy: 0.8959\n",
            "Epoch 168/200\n",
            "16/16 [==============================] - 0s 2ms/step - loss: 0.2680 - accuracy: 0.8959\n",
            "Epoch 169/200\n",
            "16/16 [==============================] - 0s 2ms/step - loss: 0.2660 - accuracy: 0.8980\n",
            "Epoch 170/200\n",
            "16/16 [==============================] - 0s 2ms/step - loss: 0.2656 - accuracy: 0.9000\n",
            "Epoch 171/200\n",
            "16/16 [==============================] - 0s 2ms/step - loss: 0.2664 - accuracy: 0.8918\n",
            "Epoch 172/200\n",
            "16/16 [==============================] - 0s 2ms/step - loss: 0.2641 - accuracy: 0.8959\n",
            "Epoch 173/200\n",
            "16/16 [==============================] - 0s 2ms/step - loss: 0.2612 - accuracy: 0.8980\n",
            "Epoch 174/200\n",
            "16/16 [==============================] - 0s 2ms/step - loss: 0.2609 - accuracy: 0.8980\n",
            "Epoch 175/200\n",
            "16/16 [==============================] - 0s 2ms/step - loss: 0.2598 - accuracy: 0.8980\n",
            "Epoch 176/200\n",
            "16/16 [==============================] - 0s 1ms/step - loss: 0.2582 - accuracy: 0.9020\n",
            "Epoch 177/200\n",
            "16/16 [==============================] - 0s 2ms/step - loss: 0.2595 - accuracy: 0.9000\n",
            "Epoch 178/200\n",
            "16/16 [==============================] - 0s 2ms/step - loss: 0.2563 - accuracy: 0.9041\n",
            "Epoch 179/200\n",
            "16/16 [==============================] - 0s 2ms/step - loss: 0.2559 - accuracy: 0.9041\n",
            "Epoch 180/200\n",
            "16/16 [==============================] - 0s 2ms/step - loss: 0.2547 - accuracy: 0.9061\n",
            "Epoch 181/200\n",
            "16/16 [==============================] - 0s 2ms/step - loss: 0.2545 - accuracy: 0.9041\n",
            "Epoch 182/200\n",
            "16/16 [==============================] - 0s 2ms/step - loss: 0.2537 - accuracy: 0.9041\n",
            "Epoch 183/200\n",
            "16/16 [==============================] - 0s 1ms/step - loss: 0.2508 - accuracy: 0.9020\n",
            "Epoch 184/200\n",
            "16/16 [==============================] - 0s 2ms/step - loss: 0.2489 - accuracy: 0.9122\n",
            "Epoch 185/200\n",
            "16/16 [==============================] - 0s 2ms/step - loss: 0.2484 - accuracy: 0.9082\n",
            "Epoch 186/200\n",
            "16/16 [==============================] - 0s 2ms/step - loss: 0.2476 - accuracy: 0.9061\n",
            "Epoch 187/200\n",
            "16/16 [==============================] - 0s 2ms/step - loss: 0.2455 - accuracy: 0.9102\n",
            "Epoch 188/200\n",
            "16/16 [==============================] - 0s 2ms/step - loss: 0.2450 - accuracy: 0.9102\n",
            "Epoch 189/200\n",
            "16/16 [==============================] - 0s 2ms/step - loss: 0.2425 - accuracy: 0.9143\n",
            "Epoch 190/200\n",
            "16/16 [==============================] - 0s 2ms/step - loss: 0.2416 - accuracy: 0.9143\n",
            "Epoch 191/200\n",
            "16/16 [==============================] - 0s 2ms/step - loss: 0.2402 - accuracy: 0.9143\n",
            "Epoch 192/200\n",
            "16/16 [==============================] - 0s 2ms/step - loss: 0.2402 - accuracy: 0.9163\n",
            "Epoch 193/200\n",
            "16/16 [==============================] - 0s 2ms/step - loss: 0.2419 - accuracy: 0.9082\n",
            "Epoch 194/200\n",
            "16/16 [==============================] - 0s 2ms/step - loss: 0.2368 - accuracy: 0.9102\n",
            "Epoch 195/200\n",
            "16/16 [==============================] - 0s 2ms/step - loss: 0.2371 - accuracy: 0.9102\n",
            "Epoch 196/200\n",
            "16/16 [==============================] - 0s 2ms/step - loss: 0.2352 - accuracy: 0.9102\n",
            "Epoch 197/200\n",
            "16/16 [==============================] - 0s 2ms/step - loss: 0.2342 - accuracy: 0.9163\n",
            "Epoch 198/200\n",
            "16/16 [==============================] - 0s 2ms/step - loss: 0.2335 - accuracy: 0.9184\n",
            "Epoch 199/200\n",
            "16/16 [==============================] - 0s 1ms/step - loss: 0.2331 - accuracy: 0.9163\n",
            "Epoch 200/200\n",
            "16/16 [==============================] - 0s 2ms/step - loss: 0.2318 - accuracy: 0.9265\n"
          ],
          "name": "stdout"
        },
        {
          "output_type": "execute_result",
          "data": {
            "text/plain": [
              "<keras.callbacks.History at 0x7fd62ceb0d50>"
            ]
          },
          "metadata": {
            "tags": []
          },
          "execution_count": 40
        }
      ]
    },
    {
      "cell_type": "code",
      "metadata": {
        "colab": {
          "base_uri": "https://localhost:8080/"
        },
        "id": "-X5jau1i_UWU",
        "outputId": "d2053cfa-832f-4ebf-a2b1-9772bfa91b5e"
      },
      "source": [
        "#Model evaluation\n",
        "training_scores=model.evaluate(X_train, y_train)\n",
        "testing_scores=model.evaluate(X_test, y_test)"
      ],
      "execution_count": 43,
      "outputs": [
        {
          "output_type": "stream",
          "text": [
            "16/16 [==============================] - 0s 1ms/step - loss: 0.2272 - accuracy: 0.9245\n",
            "5/5 [==============================] - 0s 2ms/step - loss: 0.6128 - accuracy: 0.7857\n"
          ],
          "name": "stdout"
        }
      ]
    },
    {
      "cell_type": "code",
      "metadata": {
        "colab": {
          "base_uri": "https://localhost:8080/"
        },
        "id": "Lj8OoFHKBSlT",
        "outputId": "38586852-624d-451c-f3e9-57cbb0bafa4d"
      },
      "source": [
        "print(f\"Testing Accuracy:{testing_scores[1]*100}\")\n",
        "print(f\"Training Accuracy:{training_scores[1]*100}\")"
      ],
      "execution_count": 46,
      "outputs": [
        {
          "output_type": "stream",
          "text": [
            "Testing Accuracy:78.57142686843872\n",
            "Training Accuracy:92.44897961616516\n"
          ],
          "name": "stdout"
        }
      ]
    },
    {
      "cell_type": "code",
      "metadata": {
        "id": "hVu1mhdoBvKy"
      },
      "source": [
        "#given the eight measurements from a new patient (glucose, blood pressure, insulin, and so on),\n",
        "# our MLP is able to predict with 78.5% accuracy whether that patient will develop diabetes within the next five years."
      ],
      "execution_count": 47,
      "outputs": []
    },
    {
      "cell_type": "code",
      "metadata": {
        "id": "9TRgGuw8E4eT"
      },
      "source": [
        "#Confusion matrix\n",
        "from sklearn.metrics import confusion_matrix\n"
      ],
      "execution_count": 48,
      "outputs": []
    },
    {
      "cell_type": "code",
      "metadata": {
        "colab": {
          "base_uri": "https://localhost:8080/"
        },
        "id": "b-OoVmhnFCSf",
        "outputId": "4aa30f80-6d98-4ebe-e0d2-f86c3133a17c"
      },
      "source": [
        "y_test_pred=model.predict_classes(X_test)\n",
        "c_matrix=confusion_matrix(y_test, y_test_pred)"
      ],
      "execution_count": 54,
      "outputs": [
        {
          "output_type": "stream",
          "text": [
            "/usr/local/lib/python3.7/dist-packages/keras/engine/sequential.py:450: UserWarning: `model.predict_classes()` is deprecated and will be removed after 2021-01-01. Please use instead:* `np.argmax(model.predict(x), axis=-1)`,   if your model does multi-class classification   (e.g. if it uses a `softmax` last-layer activation).* `(model.predict(x) > 0.5).astype(\"int32\")`,   if your model does binary classification   (e.g. if it uses a `sigmoid` last-layer activation).\n",
            "  warnings.warn('`model.predict_classes()` is deprecated and '\n"
          ],
          "name": "stderr"
        }
      ]
    },
    {
      "cell_type": "code",
      "metadata": {
        "colab": {
          "base_uri": "https://localhost:8080/",
          "height": 297
        },
        "id": "PdmyBxVnFPu0",
        "outputId": "c81d57df-e70a-4764-8814-8289c1dd334e"
      },
      "source": [
        "#plot the confusion matrix\n",
        "ax=sns.heatmap(c_matrix, annot=True,\n",
        "               xticklabels=['No Diabetes', 'Diabetes'],\n",
        "               yticklabels=['No Diabetes','Diabetes'],\n",
        "               cbar=False, cmap='Blues')\n",
        "ax.set_xlabel('Prediction')\n",
        "ax.set_ylabel('Actual')\n"
      ],
      "execution_count": 55,
      "outputs": [
        {
          "output_type": "execute_result",
          "data": {
            "text/plain": [
              "Text(33.0, 0.5, 'Actual')"
            ]
          },
          "metadata": {
            "tags": []
          },
          "execution_count": 55
        },
        {
          "output_type": "display_data",
          "data": {
            "image/png": "[encoded data removed]",
            "text/plain": [
              "<Figure size 432x288 with 1 Axes>"
            ]
          },
          "metadata": {
            "tags": [],
            "needs_background": "light"
          }
        }
      ]
    },
    {
      "cell_type": "code",
      "metadata": {
        "colab": {
          "base_uri": "https://localhost:8080/"
        },
        "id": "YkrVfu6iF_FW",
        "outputId": "23ce7510-249d-46a8-d4fc-dfec6852eb47"
      },
      "source": [
        "print(c_matrix)"
      ],
      "execution_count": 57,
      "outputs": [
        {
          "output_type": "stream",
          "text": [
            "[[95 20]\n",
            " [13 26]]\n"
          ],
          "name": "stdout"
        }
      ]
    },
    {
      "cell_type": "code",
      "metadata": {
        "id": "9dqA2fylnWlE"
      },
      "source": [
        ""
      ],
      "execution_count": null,
      "outputs": []
    },
    {
      "cell_type": "markdown",
      "metadata": {
        "id": "qPWyiYibnXf2"
      },
      "source": [
        "True Negative=95\n",
        "False Negative=13\n",
        "True Positive=26\n",
        "False positive=20\n"
      ]
    },
    {
      "cell_type": "code",
      "metadata": {
        "id": "FmldwbXmnZ2P"
      },
      "source": [
        ""
      ],
      "execution_count": null,
      "outputs": []
    }
  ]
}